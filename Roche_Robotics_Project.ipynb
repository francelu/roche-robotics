{
 "cells": [
  {
   "cell_type": "markdown",
   "id": "42a658b9-1daa-4417-8eba-fe2081277340",
   "metadata": {},
   "source": [
    "# Roche robotics poject"
   ]
  },
  {
   "cell_type": "markdown",
   "id": "f96c7f41-427d-4b72-bbe6-6d0e8872d8ff",
   "metadata": {},
   "source": [
    "## Setup"
   ]
  },
  {
   "cell_type": "code",
   "execution_count": 1,
   "id": "d099d341-c30e-473a-993d-4a9193331ea4",
   "metadata": {},
   "outputs": [
    {
     "name": "stdout",
     "output_type": "stream",
     "text": [
      "Requirement already satisfied: seaborn in /workspace/miniconda/envs/habitat/lib/python3.8/site-packages (0.13.2)\n",
      "Requirement already satisfied: numpy!=1.24.0,>=1.20 in /workspace/miniconda/envs/habitat/lib/python3.8/site-packages (from seaborn) (1.24.4)\n",
      "Requirement already satisfied: pandas>=1.2 in /workspace/miniconda/envs/habitat/lib/python3.8/site-packages (from seaborn) (2.0.3)\n",
      "Requirement already satisfied: matplotlib!=3.6.1,>=3.4 in /workspace/miniconda/envs/habitat/lib/python3.8/site-packages (from seaborn) (3.7.5)\n",
      "Requirement already satisfied: contourpy>=1.0.1 in /workspace/miniconda/envs/habitat/lib/python3.8/site-packages (from matplotlib!=3.6.1,>=3.4->seaborn) (1.1.1)\n",
      "Requirement already satisfied: cycler>=0.10 in /workspace/miniconda/envs/habitat/lib/python3.8/site-packages (from matplotlib!=3.6.1,>=3.4->seaborn) (0.12.1)\n",
      "Requirement already satisfied: fonttools>=4.22.0 in /workspace/miniconda/envs/habitat/lib/python3.8/site-packages (from matplotlib!=3.6.1,>=3.4->seaborn) (4.49.0)\n",
      "Requirement already satisfied: kiwisolver>=1.0.1 in /workspace/miniconda/envs/habitat/lib/python3.8/site-packages (from matplotlib!=3.6.1,>=3.4->seaborn) (1.4.5)\n",
      "Requirement already satisfied: packaging>=20.0 in /workspace/miniconda/envs/habitat/lib/python3.8/site-packages (from matplotlib!=3.6.1,>=3.4->seaborn) (23.2)\n",
      "Requirement already satisfied: pillow>=6.2.0 in /workspace/miniconda/envs/habitat/lib/python3.8/site-packages (from matplotlib!=3.6.1,>=3.4->seaborn) (10.2.0)\n",
      "Requirement already satisfied: pyparsing>=2.3.1 in /workspace/miniconda/envs/habitat/lib/python3.8/site-packages (from matplotlib!=3.6.1,>=3.4->seaborn) (3.1.1)\n",
      "Requirement already satisfied: python-dateutil>=2.7 in /workspace/miniconda/envs/habitat/lib/python3.8/site-packages (from matplotlib!=3.6.1,>=3.4->seaborn) (2.8.2)\n",
      "Requirement already satisfied: importlib-resources>=3.2.0 in /workspace/miniconda/envs/habitat/lib/python3.8/site-packages (from matplotlib!=3.6.1,>=3.4->seaborn) (6.1.1)\n",
      "Requirement already satisfied: pytz>=2020.1 in /workspace/miniconda/envs/habitat/lib/python3.8/site-packages (from pandas>=1.2->seaborn) (2024.1)\n",
      "Requirement already satisfied: tzdata>=2022.1 in /workspace/miniconda/envs/habitat/lib/python3.8/site-packages (from pandas>=1.2->seaborn) (2025.1)\n",
      "Requirement already satisfied: zipp>=3.1.0 in /workspace/miniconda/envs/habitat/lib/python3.8/site-packages (from importlib-resources>=3.2.0->matplotlib!=3.6.1,>=3.4->seaborn) (3.17.0)\n",
      "Requirement already satisfied: six>=1.5 in /workspace/miniconda/envs/habitat/lib/python3.8/site-packages (from python-dateutil>=2.7->matplotlib!=3.6.1,>=3.4->seaborn) (1.16.0)\n",
      "Note: you may need to restart the kernel to use updated packages.\n"
     ]
    }
   ],
   "source": [
    "%pip install seaborn"
   ]
  },
  {
   "cell_type": "code",
   "execution_count": 2,
   "id": "a5ad0faa-aeeb-4bea-b3aa-d1b26edae6d5",
   "metadata": {},
   "outputs": [],
   "source": [
    "import seaborn as sns\n",
    "import matplotlib\n",
    "matplotlib.rcParams[\"figure.dpi\"] = 100\n",
    "sns.set_style(\"whitegrid\")"
   ]
  },
  {
   "cell_type": "code",
   "execution_count": 3,
   "id": "5b385b8e-748c-411f-8157-274968fcc519",
   "metadata": {},
   "outputs": [],
   "source": [
    "import random\n",
    "\n",
    "from PIL import Image\n",
    "%matplotlib inline\n",
    "from matplotlib import pyplot as plt\n",
    "import numpy as np\n",
    "\n",
    "import habitat_sim"
   ]
  },
  {
   "cell_type": "code",
   "execution_count": 4,
   "id": "237e412b-a5a9-4c75-a741-6ecc50d81503",
   "metadata": {},
   "outputs": [],
   "source": [
    "sensor_settings = {\n",
    "    \"height\": 256, \"width\": 256,  # Spatial resolution of observations\n",
    "    \"sensor_height\": 1.5,  # Height of sensors in meters, relative to the agent\n",
    "}\n",
    "\n",
    "# Create a RGB sensor configuration\n",
    "rgb_sensor_spec = habitat_sim.CameraSensorSpec()\n",
    "rgb_sensor_spec.uuid = \"color_sensor\"\n",
    "rgb_sensor_spec.sensor_type = habitat_sim.SensorType.COLOR\n",
    "rgb_sensor_spec.resolution = [sensor_settings[\"height\"], sensor_settings[\"width\"]]\n",
    "rgb_sensor_spec.position = [0.0, sensor_settings[\"sensor_height\"], 0.0]\n",
    "rgb_sensor_spec.sensor_subtype = habitat_sim.SensorSubType.PINHOLE\n",
    "\n",
    "# Create a depth sensor configuration\n",
    "depth_sensor_spec = habitat_sim.CameraSensorSpec()\n",
    "depth_sensor_spec.uuid = \"depth_sensor\"\n",
    "depth_sensor_spec.sensor_type = habitat_sim.SensorType.DEPTH\n",
    "depth_sensor_spec.resolution = [sensor_settings[\"height\"], sensor_settings[\"width\"]]\n",
    "depth_sensor_spec.position = [0.0, sensor_settings[\"sensor_height\"], 0.0]\n",
    "depth_sensor_spec.sensor_subtype = habitat_sim.SensorSubType.PINHOLE\n",
    "\n",
    "sensor_specs = [rgb_sensor_spec, depth_sensor_spec]"
   ]
  },
  {
   "cell_type": "code",
   "execution_count": 6,
   "id": "c99b2d45-789f-4f5a-920c-29b6b1330981",
   "metadata": {},
   "outputs": [],
   "source": [
    "agent_settings = {\n",
    "    \"action_space\": {\n",
    "        \"move_forward\": 0.25, \"move_backward\": 0.25,  # Distance to cover in a move action in meters\n",
    "        \"turn_left\": 30.0, \"turn_right\": 30,  # Angles to cover in a turn action in degrees\n",
    "    }\n",
    "}\n",
    "\n",
    "# Create an agent configuration\n",
    "agent_cfg = habitat_sim.agent.AgentConfiguration()\n",
    "agent_cfg.action_space = {\n",
    "    k: habitat_sim.agent.ActionSpec(\n",
    "        k, habitat_sim.agent.ActuationSpec(amount=v)\n",
    "    ) for k, v in agent_settings[\"action_space\"].items()\n",
    "}\n",
    "agent_cfg.sensor_specifications = sensor_specs"
   ]
  },
  {
   "cell_type": "code",
   "execution_count": 7,
   "id": "b3143a7b-844a-4301-8486-e774a423fce3",
   "metadata": {},
   "outputs": [],
   "source": [
    "sim_settings = {\n",
    "    \"default_agent\": 0,  # Index of the default agent\n",
    "    \"scene_id\": \"data/scene_datasets/gibson/Cantwell.glb\",  # Scene file, episode 0 in val split of Gibson\n",
    "    \"enable_physics\": False,  # kinematics only\n",
    "    \"seed\": 42  # used in the random navigation\n",
    "}\n",
    "\n",
    "# Create a simulator backend configuration\n",
    "sim_cfg = habitat_sim.SimulatorConfiguration()\n",
    "sim_cfg.scene_id = sim_settings[\"scene_id\"]\n",
    "sim_cfg.enable_physics = sim_settings[\"enable_physics\"]"
   ]
  },
  {
   "cell_type": "code",
   "execution_count": 8,
   "id": "90675164-4a05-4b1b-a517-c15a6d9fe75e",
   "metadata": {},
   "outputs": [],
   "source": [
    "# Create a configuration for the simulator\n",
    "cfg = habitat_sim.Configuration(sim_cfg, [agent_cfg])"
   ]
  },
  {
   "cell_type": "code",
   "execution_count": 9,
   "id": "c686b790-c928-48ca-88fa-f0413c667cf6",
   "metadata": {},
   "outputs": [
    {
     "name": "stdout",
     "output_type": "stream",
     "text": [
      "[13:30:21:612301]:[Metadata] AttributesManagerBase.h(380)::createFromJsonOrDefaultInternal : <Dataset>: Proposing JSON name : default.scene_dataset_config.json from original name : default| This file does not exist.\n",
      "[13:30:21:612585]:[Metadata] AssetAttributesManager.cpp(123)::createObject : Asset attributes (capsule3DSolid:capsule3DSolid_hemiRings_4_cylRings_1_segments_12_halfLen_0.75_useTexCoords_false_useTangents_false) created and registered.\n",
      "[13:30:21:614701]:[Metadata] AssetAttributesManager.cpp(123)::createObject : Asset attributes (capsule3DWireframe:capsule3DWireframe_hemiRings_8_cylRings_1_segments_16_halfLen_1) created and registered.\n",
      "[13:30:21:614834]:[Metadata] AssetAttributesManager.cpp(123)::createObject : Asset attributes (coneSolid:coneSolid_segments_12_halfLen_1.25_rings_1_useTexCoords_false_useTangents_false_capEnd_true) created and registered.\n",
      "[13:30:21:614878]:[Metadata] AssetAttributesManager.cpp(123)::createObject : Asset attributes (coneWireframe:coneWireframe_segments_32_halfLen_1.25) created and registered.\n",
      "[13:30:21:614928]:[Metadata] AssetAttributesManager.cpp(123)::createObject : Asset attributes (cubeSolid:cubeSolid) created and registered.\n",
      "[13:30:21:614980]:[Metadata] AssetAttributesManager.cpp(123)::createObject : Asset attributes (cubeWireframe:cubeWireframe) created and registered.\n",
      "[13:30:21:615027]:[Metadata] AssetAttributesManager.cpp(123)::createObject : Asset attributes (cylinderSolid:cylinderSolid_rings_1_segments_12_halfLen_1_useTexCoords_false_useTangents_false_capEnds_true) created and registered.\n",
      "[13:30:21:615072]:[Metadata] AssetAttributesManager.cpp(123)::createObject : Asset attributes (cylinderWireframe:cylinderWireframe_rings_1_segments_32_halfLen_1) created and registered.\n",
      "[13:30:21:615110]:[Metadata] AssetAttributesManager.cpp(123)::createObject : Asset attributes (icosphereSolid:icosphereSolid_subdivs_1) created and registered.\n",
      "[13:30:21:615148]:[Metadata] AssetAttributesManager.cpp(123)::createObject : Asset attributes (icosphereWireframe:icosphereWireframe_subdivs_1) created and registered.\n",
      "[13:30:21:615196]:[Metadata] AssetAttributesManager.cpp(123)::createObject : Asset attributes (uvSphereSolid:uvSphereSolid_rings_8_segments_16_useTexCoords_false_useTangents_false) created and registered.\n",
      "[13:30:21:615234]:[Metadata] AssetAttributesManager.cpp(123)::createObject : Asset attributes (uvSphereWireframe:uvSphereWireframe_rings_16_segments_32) created and registered.\n",
      "[13:30:21:615268]:[Metadata] AssetAttributesManager.cpp(112)::AssetAttributesManager : Built default primitive asset templates : 12\n",
      "[13:30:21:615665]:[Metadata] SceneDatasetAttributesManager.cpp(37)::createObject : File (default) not found, so new default dataset attributes created  and registered.\n",
      "[13:30:21:615708]:[Metadata] MetadataMediator.cpp(120)::createSceneDataset : Dataset default successfully created.\n",
      "[13:30:21:615777]:[Metadata] AttributesManagerBase.h(380)::createFromJsonOrDefaultInternal : <Physics Manager>: Proposing JSON name : ./data/default.physics_config.json from original name : ./data/default.physics_config.json| This file does not exist.\n",
      "[13:30:21:615827]:[Metadata] PhysicsAttributesManager.cpp(26)::createObject : File (./data/default.physics_config.json) not found, so new default physics manager attributes created and registered.\n",
      "[13:30:21:615874]:[Metadata] MetadataMediator.cpp(203)::setActiveSceneDatasetName : Previous active dataset  changed to default successfully.\n",
      "[13:30:21:615910]:[Metadata] MetadataMediator.cpp(175)::setCurrPhysicsAttributesHandle : Old physics manager attributes  changed to ./data/default.physics_config.json successfully.\n",
      "[13:30:21:615947]:[Metadata] MetadataMediator.cpp(66)::setSimulatorConfiguration : Set new simulator config for scene/stage : data/scene_datasets/gibson/Cantwell.glb and dataset : default which is currently active dataset.\n",
      "[13:30:22:197929]:[Metadata] MetadataMediator.cpp(297)::getSceneInstanceAttributesByName : Dataset : default has no preloaded SceneInstanceAttributes or StageAttributes named : data/scene_datasets/gibson/Cantwell.glb so loading/creating a new StageAttributes with this name, and then creating a SceneInstanceAttributes with the same name that references this stage.\n",
      "[13:30:22:198007]:[Metadata] AttributesManagerBase.h(380)::createFromJsonOrDefaultInternal : <Stage Template>: Proposing JSON name : data/scene_datasets/gibson/Cantwell.stage_config.json from original name : data/scene_datasets/gibson/Cantwell.glb| This file does not exist.\n",
      "[13:30:22:199869]:[Metadata] AbstractObjectAttributesManagerBase.h(184)::createObject : File (data/scene_datasets/gibson/Cantwell.glb) exists but is not a recognized config filename extension, so new default Stage Template attributes created and registered.\n",
      "[13:30:22:200134]:[Metadata] SceneDatasetAttributes.cpp(47)::addNewSceneInstanceToDataset : Dataset : 'default' : Stage Attributes 'data/scene_datasets/gibson/Cantwell.glb' specified in Scene Attributes exists in dataset library.\n",
      "[13:30:22:200164]:[Metadata] SceneDatasetAttributes.cpp(84)::addNewSceneInstanceToDataset : Dataset : 'default' : Lighting Layout Attributes 'no_lights' specified in Scene Attributes but does not exist in dataset, so creating.\n",
      "[13:30:22:200217]:[Metadata] AttributesManagerBase.h(380)::createFromJsonOrDefaultInternal : <Lighting Layout>: Proposing JSON name : no_lights.lighting_config.json from original name : no_lights| This file does not exist.\n",
      "[13:30:22:200289]:[Metadata] LightLayoutAttributesManager.cpp(38)::createObject : File (no_lights) not found, so new default light layout attributes created and registered.\n",
      "[13:30:22:200326]:[Sim] Simulator.cpp(240)::createSceneInstance : Navmesh file location in scene instance : data/scene_datasets/gibson/Cantwell.navmesh\n",
      "[13:30:22:200374]:[Sim] Simulator.cpp(245)::createSceneInstance : Loading navmesh from data/scene_datasets/gibson/Cantwell.navmesh\n",
      "[13:30:22:209626]:[Nav] PathFinder.cpp(1032)::loadNavMesh : NavMeshSettings aren't present, guessing that they are the default\n",
      "[13:30:22:209795]:[Sim] Simulator.cpp(247)::createSceneInstance : Navmesh Loaded.\n",
      "[13:30:22:209858]:[Scene] SceneGraph.h(85)::createDrawableGroup : Created DrawableGroup: \n",
      "[13:30:22:209888]:[Assets] ResourceManager.cpp(308)::loadSemanticSceneDescriptor : SceneInstance : data/scene_datasets/gibson/Cantwell.glb proposed Semantic Scene Descriptor filename : data/scene_datasets/gibson/Cantwell.scn\n",
      "[13:30:22:210054]:[Assets] ResourceManager.cpp(1666)::configureImporterManagerGLExtensions : Importing Basis files as BC7.\n",
      "[13:30:22:210558]:[Sim] Simulator.cpp(305)::createSceneInstance : Using scene instance-specified Light key : - no_lights -\n",
      "[13:30:22:210609]:[Metadata] MetadataMediator.cpp(66)::setSimulatorConfiguration : Set new simulator config for scene/stage : data/scene_datasets/gibson/Cantwell.glb and dataset : default which is currently active dataset.\n",
      "[13:30:22:210665]:[Sim] Simulator.cpp(415)::instanceStageForSceneAttributes : Start to load stage named : data/scene_datasets/gibson/Cantwell.glb with render asset : data/scene_datasets/gibson/Cantwell.glb and collision asset : data/scene_datasets/gibson/Cantwell.glb\n",
      "[13:30:22:210752]:[Assets] ResourceManager.cpp(702)::createStageAssetInfosFromAttributes : Frame :{\"up\":[0,0,1],\"front\":[0,1,0],\"origin\":[0,0,0]} for render mesh named : data/scene_datasets/gibson/Cantwell.glb|{\"up\":[0,0,1],\"front\":[0,1,0],\"origin\":[0,0,0]} for semantic mesh named :  with type specified as semantic|Semantic Txtrs : False\n",
      "[13:30:22:210797]:[Assets] ResourceManager.cpp(518)::loadStage : Start load render asset data/scene_datasets/gibson/Cantwell.glb .\n",
      "[13:30:22:210826]:[Assets] ResourceManager.cpp(984)::loadStageInternal : Attempting to load stage data/scene_datasets/gibson/Cantwell.glb \n",
      "[13:30:22:210867]:[Assets] ResourceManager.cpp(866)::loadRenderAsset : Loading general asset named: data/scene_datasets/gibson/Cantwell.glb\n",
      "[13:30:22:210901]:[Assets] ResourceManager.cpp(1666)::configureImporterManagerGLExtensions : Importing Basis files as BC7.\n",
      "[13:30:25:354128]:[Assets] ResourceManager.cpp(2105)::loadMaterials : Building 2 materials for asset named 'Cantwell.glb' : \n",
      "[13:30:25:354353]:[Assets] ResourceManager.cpp(2210)::loadMaterials : Idx 00:Flat.\n",
      "[13:30:25:354437]:[Assets] ResourceManager.cpp(2210)::loadMaterials : Idx 01:Flat.\n",
      "[13:30:25:380483]:[Sim] Simulator.cpp(442)::instanceStageForSceneAttributes : Successfully loaded stage named : data/scene_datasets/gibson/Cantwell.glb\n",
      "[13:30:25:380682]:[Sim] Simulator.cpp(208)::reconfigure : CreateSceneInstance success == true for active scene name : data/scene_datasets/gibson/Cantwell.glb  with renderer.\n"
     ]
    },
    {
     "name": "stderr",
     "output_type": "stream",
     "text": [
      "[13:30:22:209932]:[Assets] ResourceManager.cpp(355)::loadSemanticSceneDescriptor : SSD File Naming Issue! Neither SceneInstanceAttributes-provided name : data/scene_datasets/gibson/Cantwell.scn  nor constructed filename : data/scene_datasets/gibson/info_semantic.json exist on disk.\n",
      "[13:30:25:380628]:[Sim] Simulator.cpp(474)::instanceStageForSceneAttributes : \n",
      "---\n",
      "The active scene does not contain semantic annotations : activeSemanticSceneID_ = 0  \n",
      "---\n"
     ]
    }
   ],
   "source": [
    "try:\n",
    "    sim.close()\n",
    "except NameError:\n",
    "    pass\n",
    "sim = habitat_sim.Simulator(cfg)"
   ]
  },
  {
   "cell_type": "markdown",
   "id": "b5e42ec6-a3e4-464e-9f44-cf61e004dc87",
   "metadata": {},
   "source": [
    "## Training our agent\n",
    "In this section, we will close the loop and use a trained agent to navigate in the scene.\n",
    "\n",
    "We are going to use an agent trained for [PointGoal Navigation](https://arxiv.org/abs/1807.06757). Basically, the agent is asked to *go to ($\\Delta x$, $\\Delta y$)* relative to its start position without a map. \n",
    "\n",
    "The agent is usually equipped with a RGB camera, a depth camera, and an idealized (❓) GPS+compass sensor. The GPS+compass sensor provides the distance and direction towards the target.\n",
    "\n",
    "The reward used for training the agent contains 3 components:\n",
    "1. slack reward\n",
    "    $$\n",
    "    r_t^\\text{slack}=-0.01\n",
    "    $$\n",
    "2. progressed distance to goal reward\n",
    "    $$\n",
    "    r_t^\\text{progressed distance}=r_{t-1}-r_{t}\n",
    "    $$\n",
    "    where $r_{t}$ is the geodesic distance to the goal (i.e., shortest path length to the goal) at time $t$.\n",
    "3. success reward\n",
    "    $$\n",
    "    r_t^\\text{success}=\n",
    "    \\begin{cases}\n",
    "    2.5,& \\text{if reach goal}\\\\\n",
    "    0,  & \\text{otherwise}\n",
    "    \\end{cases}\n",
    "    $$\n",
    "\n",
    "Instead of Habitat-Sim, we will use Habitat-Lab which provides an interface of vectorized environments and end-to-end reinforcement learning algorithms."
   ]
  },
  {
   "cell_type": "code",
   "execution_count": 10,
   "id": "54ed3265-1658-4138-8538-da4a09f41e82",
   "metadata": {},
   "outputs": [
    {
     "name": "stdout",
     "output_type": "stream",
     "text": [
      "Requirement already satisfied: wandb in /workspace/miniconda/envs/habitat/lib/python3.8/site-packages (0.19.8)\n",
      "Requirement already satisfied: click!=8.0.0,>=7.1 in /workspace/miniconda/envs/habitat/lib/python3.8/site-packages (from wandb) (8.1.7)\n",
      "Requirement already satisfied: docker-pycreds>=0.4.0 in /workspace/miniconda/envs/habitat/lib/python3.8/site-packages (from wandb) (0.4.0)\n",
      "Requirement already satisfied: eval-type-backport in /workspace/miniconda/envs/habitat/lib/python3.8/site-packages (from wandb) (0.2.2)\n",
      "Requirement already satisfied: gitpython!=3.1.29,>=1.0.0 in /workspace/miniconda/envs/habitat/lib/python3.8/site-packages (from wandb) (3.1.42)\n",
      "Requirement already satisfied: platformdirs in /workspace/miniconda/envs/habitat/lib/python3.8/site-packages (from wandb) (4.2.0)\n",
      "Requirement already satisfied: protobuf!=4.21.0,!=5.28.0,<6,>=3.12.0 in /workspace/miniconda/envs/habitat/lib/python3.8/site-packages (from wandb) (3.20.1)\n",
      "Requirement already satisfied: psutil>=5.0.0 in /workspace/miniconda/envs/habitat/lib/python3.8/site-packages (from wandb) (5.9.8)\n",
      "Requirement already satisfied: pydantic<3,>=2.6 in /workspace/miniconda/envs/habitat/lib/python3.8/site-packages (from wandb) (2.10.6)\n",
      "Requirement already satisfied: pyyaml in /workspace/miniconda/envs/habitat/lib/python3.8/site-packages (from wandb) (6.0.1)\n",
      "Requirement already satisfied: requests<3,>=2.0.0 in /workspace/miniconda/envs/habitat/lib/python3.8/site-packages (from wandb) (2.31.0)\n",
      "Requirement already satisfied: sentry-sdk>=2.0.0 in /workspace/miniconda/envs/habitat/lib/python3.8/site-packages (from wandb) (2.22.0)\n",
      "Requirement already satisfied: setproctitle in /workspace/miniconda/envs/habitat/lib/python3.8/site-packages (from wandb) (1.3.5)\n",
      "Requirement already satisfied: setuptools in /workspace/miniconda/envs/habitat/lib/python3.8/site-packages (from wandb) (68.2.2)\n",
      "Requirement already satisfied: typing-extensions<5,>=4.4 in /workspace/miniconda/envs/habitat/lib/python3.8/site-packages (from wandb) (4.12.2)\n",
      "Requirement already satisfied: six>=1.4.0 in /workspace/miniconda/envs/habitat/lib/python3.8/site-packages (from docker-pycreds>=0.4.0->wandb) (1.16.0)\n",
      "Requirement already satisfied: gitdb<5,>=4.0.1 in /workspace/miniconda/envs/habitat/lib/python3.8/site-packages (from gitpython!=3.1.29,>=1.0.0->wandb) (4.0.11)\n",
      "Requirement already satisfied: annotated-types>=0.6.0 in /workspace/miniconda/envs/habitat/lib/python3.8/site-packages (from pydantic<3,>=2.6->wandb) (0.7.0)\n",
      "Requirement already satisfied: pydantic-core==2.27.2 in /workspace/miniconda/envs/habitat/lib/python3.8/site-packages (from pydantic<3,>=2.6->wandb) (2.27.2)\n",
      "Requirement already satisfied: charset-normalizer<4,>=2 in /workspace/miniconda/envs/habitat/lib/python3.8/site-packages (from requests<3,>=2.0.0->wandb) (3.3.2)\n",
      "Requirement already satisfied: idna<4,>=2.5 in /workspace/miniconda/envs/habitat/lib/python3.8/site-packages (from requests<3,>=2.0.0->wandb) (3.6)\n",
      "Requirement already satisfied: urllib3<3,>=1.21.1 in /workspace/miniconda/envs/habitat/lib/python3.8/site-packages (from requests<3,>=2.0.0->wandb) (2.2.1)\n",
      "Requirement already satisfied: certifi>=2017.4.17 in /workspace/miniconda/envs/habitat/lib/python3.8/site-packages (from requests<3,>=2.0.0->wandb) (2024.2.2)\n",
      "Requirement already satisfied: smmap<6,>=3.0.1 in /workspace/miniconda/envs/habitat/lib/python3.8/site-packages (from gitdb<5,>=4.0.1->gitpython!=3.1.29,>=1.0.0->wandb) (5.0.1)\n",
      "Note: you may need to restart the kernel to use updated packages.\n"
     ]
    }
   ],
   "source": [
    "%pip install wandb"
   ]
  },
  {
   "cell_type": "code",
   "execution_count": 11,
   "id": "4ed2d7c9-9e3f-4567-8451-ecfaf7e8ca91",
   "metadata": {
    "scrolled": true
   },
   "outputs": [
    {
     "name": "stderr",
     "output_type": "stream",
     "text": [
      "Neither `ifconfig` (`ifconfig -a`) nor `ip` (`ip address show`) commands are available, listing network interfaces is likely to fail\n"
     ]
    }
   ],
   "source": [
    "import os\n",
    "import random\n",
    "from typing import Dict, List\n",
    "\n",
    "import imageio\n",
    "import matplotlib.pyplot as plt\n",
    "import numpy as np\n",
    "from omegaconf import OmegaConf\n",
    "from omegaconf.dictconfig import DictConfig\n",
    "import torch\n",
    "import torch.nn as nn\n",
    "import tqdm\n",
    "\n",
    "from habitat import VectorEnv\n",
    "from habitat.utils.render_wrapper import overlay_frame\n",
    "from habitat.utils.visualizations.utils import observations_to_image\n",
    "from habitat_baselines.common.baseline_registry import baseline_registry\n",
    "from habitat_baselines.common.construct_vector_env import construct_envs\n",
    "from habitat_baselines.config.default import get_config\n",
    "from habitat_baselines.utils.common import (\n",
    "    batch_obs,\n",
    "    inference_mode,\n",
    ")\n",
    "from habitat_baselines.rl.ppo import PPO\n",
    "\n",
    "os.environ['MAGNUM_LOG'] = 'quiet'\n",
    "os.environ['HABITAT_SIM_LOG'] = 'quiet'"
   ]
  },
  {
   "cell_type": "markdown",
   "id": "2f2a619d-0616-4ef8-b3a3-d182b75f01e3",
   "metadata": {
    "jp-MarkdownHeadingCollapsed": true
   },
   "source": [
    "### Setup\n",
    "Rather than specifying the configurations on-the-fly in Habitat-Sim, we can load the configurations from a `yaml` file in Habitat-Lab. Here we use the configuration file `ppo_pointnav.yaml`"
   ]
  },
  {
   "cell_type": "code",
   "execution_count": 12,
   "id": "7f39b03e-9dba-460a-8b90-fb4165eb02f1",
   "metadata": {},
   "outputs": [],
   "source": [
    "# A function to build the evaluation config for the trained agent\n",
    "def build_pretrained_config(data_path: str):\n",
    "    config = get_config(\"pointnav/ppo_pointnav.yaml\")  # Extract config from yaml\n",
    "    # Change for evaluation\n",
    "    OmegaConf.set_readonly(config, False)\n",
    "    config.habitat_baselines.eval_ckpt_path_dir=\"./data/checkpoints/gibson.pth\"  # Choose checkpoint\n",
    "    config.habitat_baselines.num_updates = -1\n",
    "    config.habitat_baselines.num_environments = 1\n",
    "    config.habitat_baselines.verbose = False\n",
    "    config.habitat.dataset.data_path = data_path\n",
    "    OmegaConf.set_readonly(config, True)\n",
    "\n",
    "    return config\n",
    "\n",
    "sample_config = build_pretrained_config(\"data/datasets/pointnav/gibson/v1/val/val_cantwell.json.gz\")"
   ]
  },
  {
   "cell_type": "code",
   "execution_count": 13,
   "id": "ba0e4d7f-1012-4538-94fb-f1ff307d2514",
   "metadata": {},
   "outputs": [
    {
     "name": "stderr",
     "output_type": "stream",
     "text": [
      "2025-04-13 13:36:35,146 Initializing dataset PointNav-v1\n",
      "Neither `ifconfig` (`ifconfig -a`) nor `ip` (`ip address show`) commands are available, listing network interfaces is likely to fail\n",
      "2025-04-13 13:36:46,657 Initializing dataset PointNav-v1\n",
      "2025-04-13 13:36:46,660 initializing sim Sim-v0\n",
      "2025-04-13 13:36:49,781 Initializing task Nav-v0\n"
     ]
    }
   ],
   "source": [
    "# A function to build a vectorized environment\n",
    "def build_env(config: DictConfig, multiprocess=True):\n",
    "    if not multiprocess:\n",
    "        import os\n",
    "        os.environ['HABITAT_ENV_DEBUG'] = '1'\n",
    "    return construct_envs(\n",
    "        config=config,\n",
    "        workers_ignore_signals=False,\n",
    "        enforce_scenes_greater_eq_environments=True,\n",
    "    )\n",
    "\n",
    "sample_env = build_env(config=sample_config)"
   ]
  },
  {
   "cell_type": "code",
   "execution_count": 18,
   "id": "57e08791-0385-42cd-aa02-1f5ae8cc3ab8",
   "metadata": {},
   "outputs": [],
   "source": [
    "# A function to build auxiliary variables for the policy\n",
    "def build_variables(config: DictConfig, actor_critic: nn.Module, device: torch.device):\n",
    "    test_recurrent_hidden_states = torch.zeros(  # Hidden recurrent state\n",
    "        config.habitat_baselines.num_environments,\n",
    "        actor_critic.num_recurrent_layers, \n",
    "        config.habitat_baselines.rl.ppo.hidden_size, \n",
    "        device=device\n",
    "    )\n",
    "    prev_actions = torch.zeros(  # Previous action\n",
    "        config.habitat_baselines.num_environments,\n",
    "        1,\n",
    "        device=device,\n",
    "        dtype=torch.long,\n",
    "    )\n",
    "    not_done_masks = torch.zeros(\n",
    "        config.habitat_baselines.num_environments,\n",
    "        1,\n",
    "        device=device,\n",
    "        dtype=torch.bool,\n",
    "    )\n",
    "\n",
    "    return test_recurrent_hidden_states, prev_actions, not_done_masks\n",
    "\n",
    "sample_test_recurrent_hidden_states, sample_prev_actions, sample_not_done_masks = build_variables(\n",
    "    config=sample_config, \n",
    "    actor_critic=sample_actor_critic, \n",
    "    device=sample_device\n",
    ")\n"
   ]
  },
  {
   "cell_type": "code",
   "execution_count": 17,
   "id": "22e34618-80a2-4132-8768-d6cdb44f23e3",
   "metadata": {},
   "outputs": [],
   "source": [
    "# A function to load the pretrained agent\n",
    "def build_agent(config: DictConfig, env: VectorEnv, device: torch.device):\n",
    "    ppo_cfg = config.habitat_baselines.rl.ppo  # Extract config for PPO\n",
    "\n",
    "    policy = baseline_registry.get_policy(\n",
    "        config.habitat_baselines.rl.policy.name\n",
    "    )\n",
    "    # TODO: Please enter your code here to replace ...\n",
    "    # HINT: You can refer to the doc of VectorEnv at https://aihabitat.org/docs/habitat-lab/habitat.core.vector_env.VectorEnv.html\n",
    "    \n",
    "    observation_space = env.observation_spaces[0]\n",
    "    policy_action_space = env.action_spaces[0]\n",
    "    orig_policy_action_space = policy_action_space\n",
    "\n",
    "    actor_critic = policy.from_config(  # Build the actor-critic\n",
    "        config,\n",
    "        observation_space,\n",
    "        policy_action_space,\n",
    "        orig_action_space=orig_policy_action_space,\n",
    "    )\n",
    "    actor_critic.to(device)\n",
    "\n",
    "    agent = PPO.from_config(  # Build the PPO agent\n",
    "        actor_critic=actor_critic,\n",
    "        config=ppo_cfg,\n",
    "    )\n",
    "\n",
    "    ckpt_dict = torch.load(config.habitat_baselines.eval_ckpt_path_dir, map_location=\"cpu\")  # Load the checkpoint\n",
    "    agent.load_state_dict(ckpt_dict[\"state_dict\"])\n",
    "\n",
    "    actor_critic.eval()\n",
    "    agent.eval()\n",
    "\n",
    "    return actor_critic, agent\n",
    "\n",
    "sample_device = torch.device(\"cpu\")\n",
    "sample_actor_critic, sample_agent = build_agent(config=sample_config, env=sample_env, device=sample_device)\n"
   ]
  },
  {
   "cell_type": "markdown",
   "id": "02a3b4cc-d58d-4e3c-bf03-d8d054d77e87",
   "metadata": {
    "jp-MarkdownHeadingCollapsed": true
   },
   "source": [
    "### PPO"
   ]
  },
  {
   "cell_type": "code",
   "execution_count": 15,
   "id": "9a3bad3e-cf4a-4e23-b219-9fd43199532a",
   "metadata": {},
   "outputs": [],
   "source": [
    "import random\n",
    "\n",
    "import numpy as np\n",
    "from omegaconf import OmegaConf\n",
    "import torch\n",
    "import torch.nn.functional as F\n",
    "\n",
    "from habitat_baselines.config.default import get_config\n",
    "from habitat_baselines.rl.ppo.ppo_trainer import PPOTrainer\n",
    "\n",
    "from pg.base_pg import BasePolicyGradient\n",
    "from pg.base_pg_trainer import BasePolicyGradientTrainer"
   ]
  },
  {
   "cell_type": "code",
   "execution_count": 16,
   "id": "2cbfcb6a-256b-44a7-952e-1c82242ce4d6",
   "metadata": {},
   "outputs": [
    {
     "name": "stderr",
     "output_type": "stream",
     "text": [
      "2025-04-13 13:48:19,801 Loading resume state: data/PPO_checkpoints/.habitat-resume-state.pth\n",
      "2025-04-13 13:48:20,164 Initializing dataset PointNav-v1\n",
      "2025-04-13 13:48:20,687 There are less scenes (1) than environments (2). Each environment will use all the scenes instead of using a subset.\n",
      "Neither `ifconfig` (`ifconfig -a`) nor `ip` (`ip address show`) commands are available, listing network interfaces is likely to fail\n",
      "Neither `ifconfig` (`ifconfig -a`) nor `ip` (`ip address show`) commands are available, listing network interfaces is likely to fail\n",
      "2025-04-13 13:48:32,158 Initializing dataset PointNav-v1\n",
      "2025-04-13 13:48:32,179 Initializing dataset PointNav-v1\n",
      "2025-04-13 13:48:32,573 initializing sim Sim-v0\n",
      "2025-04-13 13:48:32,591 initializing sim Sim-v0\n",
      "2025-04-13 13:48:37,540 Initializing task Nav-v0\n",
      "2025-04-13 13:48:37,547 Initializing task Nav-v0\n",
      "2025-04-13 13:48:49,135 agent number of parameters: 890661\n",
      "2025-04-13 13:48:53,660 update: 500\tfps: 287.225\t\n",
      "2025-04-13 13:48:53,661 update: 500\tenv-time: 113.518s\tpth-time: 174.372s\tframes: 128000\n",
      "2025-04-13 13:48:53,661 Average window size: 50  distance_to_goal: 0.200  distance_to_goal_reward: 0.000  reward: 17.979  spl: 0.790  success: 0.824\n",
      "2025-04-13 13:49:10,474 update: 525\tfps: 290.620\t\n",
      "2025-04-13 13:49:10,475 update: 525\tenv-time: 123.095s\tpth-time: 181.038s\tframes: 134400\n",
      "2025-04-13 13:49:10,476 Average window size: 50  distance_to_goal: 0.265  distance_to_goal_reward: 0.000  reward: 18.415  spl: 0.779  success: 0.806\n",
      "2025-04-13 13:49:27,122 update: 550\tfps: 293.880\t\n",
      "2025-04-13 13:49:27,123 update: 550\tenv-time: 132.585s\tpth-time: 187.629s\tframes: 140800\n",
      "2025-04-13 13:49:27,124 Average window size: 50  distance_to_goal: 0.229  distance_to_goal_reward: 0.000  reward: 19.474  spl: 0.788  success: 0.814\n",
      "2025-04-13 13:49:43,784 update: 575\tfps: 296.913\t\n",
      "2025-04-13 13:49:43,785 update: 575\tenv-time: 142.108s\tpth-time: 194.200s\tframes: 147200\n",
      "2025-04-13 13:49:43,785 Average window size: 50  distance_to_goal: 0.330  distance_to_goal_reward: 0.000  reward: 19.115  spl: 0.778  success: 0.803\n"
     ]
    },
    {
     "ename": "FileNotFoundError",
     "evalue": "[Errno 2] No such file or directory: 'checkpoint'",
     "output_type": "error",
     "traceback": [
      "\u001b[0;31m---------------------------------------------------------------------------\u001b[0m",
      "\u001b[0;31mFileNotFoundError\u001b[0m                         Traceback (most recent call last)",
      "Cell \u001b[0;32mIn[16], line 38\u001b[0m\n\u001b[1;32m     36\u001b[0m \u001b[38;5;66;03m# Build the trainer and start training\u001b[39;00m\n\u001b[1;32m     37\u001b[0m trainer \u001b[38;5;241m=\u001b[39m PPOTrainer(config)\n\u001b[0;32m---> 38\u001b[0m \u001b[43mtrainer\u001b[49m\u001b[38;5;241;43m.\u001b[39;49m\u001b[43mtrain\u001b[49m\u001b[43m(\u001b[49m\u001b[43m)\u001b[49m\n",
      "File \u001b[0;32m/workspace/miniconda/envs/habitat/lib/python3.8/contextlib.py:75\u001b[0m, in \u001b[0;36mContextDecorator.__call__.<locals>.inner\u001b[0;34m(*args, **kwds)\u001b[0m\n\u001b[1;32m     72\u001b[0m \u001b[38;5;129m@wraps\u001b[39m(func)\n\u001b[1;32m     73\u001b[0m \u001b[38;5;28;01mdef\u001b[39;00m \u001b[38;5;21minner\u001b[39m(\u001b[38;5;241m*\u001b[39margs, \u001b[38;5;241m*\u001b[39m\u001b[38;5;241m*\u001b[39mkwds):\n\u001b[1;32m     74\u001b[0m     \u001b[38;5;28;01mwith\u001b[39;00m \u001b[38;5;28mself\u001b[39m\u001b[38;5;241m.\u001b[39m_recreate_cm():\n\u001b[0;32m---> 75\u001b[0m         \u001b[38;5;28;01mreturn\u001b[39;00m \u001b[43mfunc\u001b[49m\u001b[43m(\u001b[49m\u001b[38;5;241;43m*\u001b[39;49m\u001b[43margs\u001b[49m\u001b[43m,\u001b[49m\u001b[43m \u001b[49m\u001b[38;5;241;43m*\u001b[39;49m\u001b[38;5;241;43m*\u001b[39;49m\u001b[43mkwds\u001b[49m\u001b[43m)\u001b[49m\n",
      "File \u001b[0;32m/workspace/habitat-lab/habitat-baselines/habitat_baselines/rl/ppo/ppo_trainer.py:953\u001b[0m, in \u001b[0;36mPPOTrainer.train\u001b[0;34m(self)\u001b[0m\n\u001b[1;32m    950\u001b[0m \u001b[38;5;28mself\u001b[39m\u001b[38;5;241m.\u001b[39menvs\u001b[38;5;241m.\u001b[39mclose()\n\u001b[1;32m    952\u001b[0m \u001b[38;5;28;01mif\u001b[39;00m \u001b[38;5;28mself\u001b[39m\u001b[38;5;241m.\u001b[39mconfig\u001b[38;5;241m.\u001b[39mhabitat_baselines\u001b[38;5;241m.\u001b[39mlaunch_eval_afterwards:\n\u001b[0;32m--> 953\u001b[0m     \u001b[38;5;28;43mself\u001b[39;49m\u001b[38;5;241;43m.\u001b[39;49m\u001b[43m_train_utils\u001b[49m\u001b[38;5;241;43m.\u001b[39;49m\u001b[43mlaunch_evaluation_after_training\u001b[49m\u001b[43m(\u001b[49m\n\u001b[1;32m    954\u001b[0m \u001b[43m        \u001b[49m\u001b[43mwriter\u001b[49m\u001b[38;5;241;43m=\u001b[39;49m\u001b[43mwriter\u001b[49m\u001b[43m,\u001b[49m\n\u001b[1;32m    955\u001b[0m \u001b[43m    \u001b[49m\u001b[43m)\u001b[49m\n",
      "File \u001b[0;32m/workspace/habitat-lab/habitat-baselines/habitat_baselines/common/train_utils.py:399\u001b[0m, in \u001b[0;36mTrainUtils.launch_evaluation_after_training\u001b[0;34m(self, writer)\u001b[0m\n\u001b[1;32m    395\u001b[0m \u001b[38;5;28;01mdef\u001b[39;00m \u001b[38;5;21mlaunch_evaluation_after_training\u001b[39m(\n\u001b[1;32m    396\u001b[0m     \u001b[38;5;28mself\u001b[39m,\n\u001b[1;32m    397\u001b[0m     writer: WeightsAndBiasesWriter,\n\u001b[1;32m    398\u001b[0m ):\n\u001b[0;32m--> 399\u001b[0m     \u001b[38;5;28;43mself\u001b[39;49m\u001b[38;5;241;43m.\u001b[39;49m\u001b[43m_eval_monitor\u001b[49m\u001b[38;5;241;43m.\u001b[39;49m\u001b[43mlaunch_evaluation_after_training\u001b[49m\u001b[43m(\u001b[49m\n\u001b[1;32m    400\u001b[0m \u001b[43m        \u001b[49m\u001b[43mwriter\u001b[49m\u001b[38;5;241;43m=\u001b[39;49m\u001b[43mwriter\u001b[49m\u001b[43m,\u001b[49m\n\u001b[1;32m    401\u001b[0m \u001b[43m    \u001b[49m\u001b[43m)\u001b[49m\n",
      "File \u001b[0;32m/workspace/habitat-lab/habitat-baselines/habitat_baselines/common/train_utils.py:194\u001b[0m, in \u001b[0;36mEvalMonitor.launch_evaluation_after_training\u001b[0;34m(self, writer)\u001b[0m\n\u001b[1;32m    190\u001b[0m \u001b[38;5;28;01mdef\u001b[39;00m \u001b[38;5;21mlaunch_evaluation_after_training\u001b[39m(\n\u001b[1;32m    191\u001b[0m     \u001b[38;5;28mself\u001b[39m,\n\u001b[1;32m    192\u001b[0m     writer: WeightsAndBiasesWriter,\n\u001b[1;32m    193\u001b[0m ):\n\u001b[0;32m--> 194\u001b[0m     \u001b[38;5;28;01mfor\u001b[39;00m ckpt_fn \u001b[38;5;129;01min\u001b[39;00m \u001b[43mos\u001b[49m\u001b[38;5;241;43m.\u001b[39;49m\u001b[43mlistdir\u001b[49m\u001b[43m(\u001b[49m\u001b[38;5;28;43mself\u001b[39;49m\u001b[38;5;241;43m.\u001b[39;49m\u001b[43m_ckpt_save_dir\u001b[49m\u001b[43m)\u001b[49m:\n\u001b[1;32m    195\u001b[0m         \u001b[38;5;28;01mif\u001b[39;00m \u001b[38;5;129;01mnot\u001b[39;00m \u001b[38;5;124m'\u001b[39m\u001b[38;5;124mckpt\u001b[39m\u001b[38;5;124m'\u001b[39m \u001b[38;5;129;01min\u001b[39;00m ckpt_fn:  \u001b[38;5;66;03m# Do not evaluate latest.pth\u001b[39;00m\n\u001b[1;32m    196\u001b[0m             \u001b[38;5;28;01mcontinue\u001b[39;00m\n",
      "\u001b[0;31mFileNotFoundError\u001b[0m: [Errno 2] No such file or directory: 'checkpoint'"
     ]
    }
   ],
   "source": [
    "# A function to build configuration for PPO training\n",
    "def build_PPO_config():\n",
    "    config = get_config(\"pointnav/ppo_pointnav.yaml\")\n",
    "    # Change for REINFORCE\n",
    "    OmegaConf.set_readonly(config, False)\n",
    "    config.habitat_baselines.checkpoint_folder = \"data/PPO_checkpoints\"\n",
    "    config.habitat_baselines.tensorboard_dir = \"tb/PPO\"\n",
    "    config.habitat_baselines.num_updates = -1\n",
    "    config.habitat_baselines.num_environments = 2\n",
    "    config.habitat_baselines.verbose = False\n",
    "    config.habitat_baselines.num_checkpoints = -1\n",
    "    config.habitat_baselines.checkpoint_interval = 1000000\n",
    "    config.habitat_baselines.total_num_steps = 150 * 1000\n",
    "    config.habitat_baselines.force_blind_policy = True\n",
    "    config.habitat.dataset.data_path=\"data/datasets/pointnav/simple_room/v0/{split}/empty_room.json.gz\"\n",
    "    OmegaConf.set_readonly(config, True)\n",
    "\n",
    "    return config\n",
    "\n",
    "config = build_PPO_config()  # Build the config for PPO\n",
    "\n",
    "# Set randomness\n",
    "random.seed(config.habitat.seed)\n",
    "np.random.seed(config.habitat.seed)\n",
    "torch.manual_seed(config.habitat.seed)\n",
    "if (\n",
    "    config.habitat_baselines.force_torch_single_threaded\n",
    "    and torch.cuda.is_available()\n",
    "):\n",
    "    torch.set_num_threads(1)\n",
    "\n",
    "import os\n",
    "os.environ[\"MAGNUM_LOG\"] = \"quiet\"\n",
    "os.environ[\"HABITAT_SIM_LOG\"] = \"quiet\"\n",
    "\n",
    "# Build the trainer and start training\n",
    "trainer = PPOTrainer(config)\n",
    "trainer.train()"
   ]
  },
  {
   "cell_type": "code",
   "execution_count": null,
   "id": "6bff2364-d2ff-4069-9030-b12a2e2e7376",
   "metadata": {},
   "outputs": [],
   "source": []
  }
 ],
 "metadata": {
  "kernelspec": {
   "display_name": "Python 3 (ipykernel)",
   "language": "python",
   "name": "python3"
  },
  "language_info": {
   "codemirror_mode": {
    "name": "ipython",
    "version": 3
   },
   "file_extension": ".py",
   "mimetype": "text/x-python",
   "name": "python",
   "nbconvert_exporter": "python",
   "pygments_lexer": "ipython3",
   "version": "3.8.18"
  }
 },
 "nbformat": 4,
 "nbformat_minor": 5
}
