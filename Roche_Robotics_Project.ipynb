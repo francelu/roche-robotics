{
 "cells": [
  {
   "cell_type": "markdown",
   "id": "42a658b9-1daa-4417-8eba-fe2081277340",
   "metadata": {},
   "source": [
    "# Roche robotics poject"
   ]
  },
  {
   "cell_type": "markdown",
   "id": "02a3b4cc-d58d-4e3c-bf03-d8d054d77e87",
   "metadata": {},
   "source": [
    "## Imports"
   ]
  },
  {
   "cell_type": "code",
   "execution_count": 2,
   "id": "9a3bad3e-cf4a-4e23-b219-9fd43199532a",
   "metadata": {},
   "outputs": [],
   "source": [
    "import random\n",
    "\n",
    "import numpy as np\n",
    "import matplotlib.pyplot as plt\n",
    "from omegaconf import OmegaConf\n",
    "import torch\n",
    "import torch.nn.functional as F\n",
    "\n",
    "from habitat_baselines.config.default import get_config\n",
    "from habitat_baselines.rl.ppo.ppo_trainer import PPOTrainer\n",
    "\n",
    "from pg.base_pg import BasePolicyGradient\n",
    "from pg.base_pg_trainer import BasePolicyGradientTrainer"
   ]
  },
  {
   "cell_type": "markdown",
   "id": "559a56b7-dd0f-4cc6-8f7e-cfcb26a1f120",
   "metadata": {},
   "source": [
    "## Useful functions"
   ]
  },
  {
   "cell_type": "code",
   "execution_count": 3,
   "id": "065f79ce-1509-4716-8875-ad7cbaaafe41",
   "metadata": {},
   "outputs": [],
   "source": [
    "from tensorboard.backend.event_processing import event_accumulator\n",
    "import pandas as pd\n",
    "\n",
    "\n",
    "def parse_tensorboard(path, scalars, prefix=\"\"):\n",
    "    \"\"\"returns a dictionary of pandas dataframes for each requested scalar\"\"\"\n",
    "    ea = event_accumulator.EventAccumulator(\n",
    "        path,\n",
    "        size_guidance={event_accumulator.SCALARS: 0},\n",
    "    )\n",
    "    _ = ea.Reload()\n",
    "    df = pd.DataFrame(ea.Scalars(scalars[0]))\n",
    "    df[f'{scalars[0]}'] = df['value']\n",
    "    df.drop(columns=['value'], inplace=True)\n",
    "    for k in scalars:\n",
    "        df[k] = pd.DataFrame(ea.Scalars(k))['value']\n",
    "    return df"
   ]
  },
  {
   "cell_type": "markdown",
   "id": "c124f396-b892-47a7-9c7e-f3770d39ef20",
   "metadata": {},
   "source": [
    "## Configuration 1 : PointNav, Empty Room, All sensors"
   ]
  },
  {
   "cell_type": "markdown",
   "id": "867f6688-fa79-41ed-8f4f-2df12ca5e617",
   "metadata": {},
   "source": [
    "### PPO Configuration"
   ]
  },
  {
   "cell_type": "code",
   "execution_count": 15,
   "id": "b498bcaf-a121-4670-adc8-c5c4933d3657",
   "metadata": {},
   "outputs": [],
   "source": [
    "# A function to build configuration for PPO training\n",
    "def build_PPO_config():\n",
    "    config = get_config(\"pointnav/ppo_pointnav.yaml\")\n",
    "    # Change for REINFORCE\n",
    "    OmegaConf.set_readonly(config, False)\n",
    "    config.habitat_baselines.checkpoint_folder = \"data/PPO_checkpoints\"\n",
    "    config.habitat_baselines.tensorboard_dir = \"tb/PPO\"\n",
    "    config.habitat_baselines.num_updates = -1\n",
    "    config.habitat_baselines.num_environments = 2\n",
    "    config.habitat_baselines.verbose = False\n",
    "    config.habitat_baselines.num_checkpoints = -1\n",
    "    config.habitat_baselines.checkpoint_interval = 1000000\n",
    "    config.habitat_baselines.total_num_steps = 150 * 1000\n",
    "    # config.habitat_baselines.force_blind_policy = True\n",
    "    config.habitat.dataset.data_path=\"data/datasets/pointnav/simple_room/v0/{split}/empty_room.json.gz\"\n",
    "    OmegaConf.set_readonly(config, True)\n",
    "\n",
    "    return config\n",
    "\n",
    "config = build_PPO_config()  # Build the config for PPO\n",
    "# Set randomness\n",
    "random.seed(config.habitat.seed)\n",
    "np.random.seed(config.habitat.seed)\n",
    "torch.manual_seed(config.habitat.seed)\n",
    "if (\n",
    "    config.habitat_baselines.force_torch_single_threaded\n",
    "    and torch.cuda.is_available()\n",
    "):\n",
    "    torch.set_num_threads(1)\n",
    "\n",
    "import os\n",
    "os.environ[\"MAGNUM_LOG\"] = \"quiet\"\n",
    "os.environ[\"HABITAT_SIM_LOG\"] = \"quiet\"\n"
   ]
  },
  {
   "cell_type": "markdown",
   "id": "6d08b884-0399-481d-ac6b-93f183ae0c68",
   "metadata": {},
   "source": [
    "### Training phase"
   ]
  },
  {
   "cell_type": "code",
   "execution_count": 16,
   "id": "b6b8d8e5-be85-4c09-8859-4e1062d101d0",
   "metadata": {},
   "outputs": [
    {
     "name": "stderr",
     "output_type": "stream",
     "text": [
      "2025-04-29 12:43:03,303 Loading resume state: data/PPO_checkpoints/.habitat-resume-state.pth\n",
      "2025-04-29 12:43:03,327 \n",
      "##################\n",
      "You are attempting to resume training with a different configuration than the one used for the original training run. Since load_resume_state_config=True, the ORIGINAL configuration will be used and the new configuration will be IGNORED.##################\n",
      "\n",
      "2025-04-29 12:43:03,328 Initializing dataset PointNav-v1\n",
      "2025-04-29 12:43:03,852 There are less scenes (1) than environments (2). Each environment will use all the scenes instead of using a subset.\n",
      "Neither `ifconfig` (`ifconfig -a`) nor `ip` (`ip address show`) commands are available, listing network interfaces is likely to fail\n",
      "Neither `ifconfig` (`ifconfig -a`) nor `ip` (`ip address show`) commands are available, listing network interfaces is likely to fail\n",
      "2025-04-29 12:43:15,196 Initializing dataset PointNav-v1\n",
      "2025-04-29 12:43:15,249 Initializing dataset PointNav-v1\n",
      "2025-04-29 12:43:15,611 initializing sim Sim-v0\n",
      "2025-04-29 12:43:15,659 initializing sim Sim-v0\n",
      "2025-04-29 12:43:20,193 Initializing task Nav-v0\n",
      "2025-04-29 12:43:20,238 Initializing task Nav-v0\n",
      "2025-04-29 12:43:20,287 agent number of parameters: 890661\n",
      "2025-04-29 12:43:21,131 update: 500\tfps: 289.355\t\n",
      "2025-04-29 12:43:21,132 update: 500\tenv-time: 113.507s\tpth-time: 170.753s\tframes: 128000\n",
      "2025-04-29 12:43:21,133 Average window size: 50  distance_to_goal: 0.200  distance_to_goal_reward: 0.000  reward: 17.979  spl: 0.790  success: 0.824\n",
      "2025-04-29 12:43:39,392 update: 525\tfps: 291.778\t\n",
      "2025-04-29 12:43:39,393 update: 525\tenv-time: 123.125s\tpth-time: 178.721s\tframes: 134400\n",
      "2025-04-29 12:43:39,394 Average window size: 50  distance_to_goal: 0.265  distance_to_goal_reward: 0.000  reward: 18.415  spl: 0.779  success: 0.806\n",
      "2025-04-29 12:43:56,615 update: 550\tfps: 294.655\t\n",
      "2025-04-29 12:43:56,616 update: 550\tenv-time: 132.813s\tpth-time: 185.660s\tframes: 140800\n",
      "2025-04-29 12:43:56,617 Average window size: 50  distance_to_goal: 0.229  distance_to_goal_reward: 0.000  reward: 19.474  spl: 0.788  success: 0.814\n",
      "2025-04-29 12:44:13,594 update: 575\tfps: 297.479\t\n",
      "2025-04-29 12:44:13,595 update: 575\tenv-time: 142.562s\tpth-time: 192.315s\tframes: 147200\n",
      "2025-04-29 12:44:13,595 Average window size: 50  distance_to_goal: 0.330  distance_to_goal_reward: 0.000  reward: 19.115  spl: 0.778  success: 0.803\n"
     ]
    },
    {
     "ename": "FileNotFoundError",
     "evalue": "[Errno 2] No such file or directory: 'checkpoint'",
     "output_type": "error",
     "traceback": [
      "\u001b[0;31m---------------------------------------------------------------------------\u001b[0m",
      "\u001b[0;31mFileNotFoundError\u001b[0m                         Traceback (most recent call last)",
      "Cell \u001b[0;32mIn[16], line 3\u001b[0m\n\u001b[1;32m      1\u001b[0m \u001b[38;5;66;03m# Build the trainer and start training\u001b[39;00m\n\u001b[1;32m      2\u001b[0m trainer \u001b[38;5;241m=\u001b[39m PPOTrainer(config)\n\u001b[0;32m----> 3\u001b[0m \u001b[43mtrainer\u001b[49m\u001b[38;5;241;43m.\u001b[39;49m\u001b[43mtrain\u001b[49m\u001b[43m(\u001b[49m\u001b[43m)\u001b[49m\n",
      "File \u001b[0;32m/workspace/miniconda/envs/habitat/lib/python3.8/contextlib.py:75\u001b[0m, in \u001b[0;36mContextDecorator.__call__.<locals>.inner\u001b[0;34m(*args, **kwds)\u001b[0m\n\u001b[1;32m     72\u001b[0m \u001b[38;5;129m@wraps\u001b[39m(func)\n\u001b[1;32m     73\u001b[0m \u001b[38;5;28;01mdef\u001b[39;00m \u001b[38;5;21minner\u001b[39m(\u001b[38;5;241m*\u001b[39margs, \u001b[38;5;241m*\u001b[39m\u001b[38;5;241m*\u001b[39mkwds):\n\u001b[1;32m     74\u001b[0m     \u001b[38;5;28;01mwith\u001b[39;00m \u001b[38;5;28mself\u001b[39m\u001b[38;5;241m.\u001b[39m_recreate_cm():\n\u001b[0;32m---> 75\u001b[0m         \u001b[38;5;28;01mreturn\u001b[39;00m \u001b[43mfunc\u001b[49m\u001b[43m(\u001b[49m\u001b[38;5;241;43m*\u001b[39;49m\u001b[43margs\u001b[49m\u001b[43m,\u001b[49m\u001b[43m \u001b[49m\u001b[38;5;241;43m*\u001b[39;49m\u001b[38;5;241;43m*\u001b[39;49m\u001b[43mkwds\u001b[49m\u001b[43m)\u001b[49m\n",
      "File \u001b[0;32m/workspace/habitat-lab/habitat-baselines/habitat_baselines/rl/ppo/ppo_trainer.py:953\u001b[0m, in \u001b[0;36mPPOTrainer.train\u001b[0;34m(self)\u001b[0m\n\u001b[1;32m    950\u001b[0m \u001b[38;5;28mself\u001b[39m\u001b[38;5;241m.\u001b[39menvs\u001b[38;5;241m.\u001b[39mclose()\n\u001b[1;32m    952\u001b[0m \u001b[38;5;28;01mif\u001b[39;00m \u001b[38;5;28mself\u001b[39m\u001b[38;5;241m.\u001b[39mconfig\u001b[38;5;241m.\u001b[39mhabitat_baselines\u001b[38;5;241m.\u001b[39mlaunch_eval_afterwards:\n\u001b[0;32m--> 953\u001b[0m     \u001b[38;5;28;43mself\u001b[39;49m\u001b[38;5;241;43m.\u001b[39;49m\u001b[43m_train_utils\u001b[49m\u001b[38;5;241;43m.\u001b[39;49m\u001b[43mlaunch_evaluation_after_training\u001b[49m\u001b[43m(\u001b[49m\n\u001b[1;32m    954\u001b[0m \u001b[43m        \u001b[49m\u001b[43mwriter\u001b[49m\u001b[38;5;241;43m=\u001b[39;49m\u001b[43mwriter\u001b[49m\u001b[43m,\u001b[49m\n\u001b[1;32m    955\u001b[0m \u001b[43m    \u001b[49m\u001b[43m)\u001b[49m\n",
      "File \u001b[0;32m/workspace/habitat-lab/habitat-baselines/habitat_baselines/common/train_utils.py:399\u001b[0m, in \u001b[0;36mTrainUtils.launch_evaluation_after_training\u001b[0;34m(self, writer)\u001b[0m\n\u001b[1;32m    395\u001b[0m \u001b[38;5;28;01mdef\u001b[39;00m \u001b[38;5;21mlaunch_evaluation_after_training\u001b[39m(\n\u001b[1;32m    396\u001b[0m     \u001b[38;5;28mself\u001b[39m,\n\u001b[1;32m    397\u001b[0m     writer: WeightsAndBiasesWriter,\n\u001b[1;32m    398\u001b[0m ):\n\u001b[0;32m--> 399\u001b[0m     \u001b[38;5;28;43mself\u001b[39;49m\u001b[38;5;241;43m.\u001b[39;49m\u001b[43m_eval_monitor\u001b[49m\u001b[38;5;241;43m.\u001b[39;49m\u001b[43mlaunch_evaluation_after_training\u001b[49m\u001b[43m(\u001b[49m\n\u001b[1;32m    400\u001b[0m \u001b[43m        \u001b[49m\u001b[43mwriter\u001b[49m\u001b[38;5;241;43m=\u001b[39;49m\u001b[43mwriter\u001b[49m\u001b[43m,\u001b[49m\n\u001b[1;32m    401\u001b[0m \u001b[43m    \u001b[49m\u001b[43m)\u001b[49m\n",
      "File \u001b[0;32m/workspace/habitat-lab/habitat-baselines/habitat_baselines/common/train_utils.py:194\u001b[0m, in \u001b[0;36mEvalMonitor.launch_evaluation_after_training\u001b[0;34m(self, writer)\u001b[0m\n\u001b[1;32m    190\u001b[0m \u001b[38;5;28;01mdef\u001b[39;00m \u001b[38;5;21mlaunch_evaluation_after_training\u001b[39m(\n\u001b[1;32m    191\u001b[0m     \u001b[38;5;28mself\u001b[39m,\n\u001b[1;32m    192\u001b[0m     writer: WeightsAndBiasesWriter,\n\u001b[1;32m    193\u001b[0m ):\n\u001b[0;32m--> 194\u001b[0m     \u001b[38;5;28;01mfor\u001b[39;00m ckpt_fn \u001b[38;5;129;01min\u001b[39;00m \u001b[43mos\u001b[49m\u001b[38;5;241;43m.\u001b[39;49m\u001b[43mlistdir\u001b[49m\u001b[43m(\u001b[49m\u001b[38;5;28;43mself\u001b[39;49m\u001b[38;5;241;43m.\u001b[39;49m\u001b[43m_ckpt_save_dir\u001b[49m\u001b[43m)\u001b[49m:\n\u001b[1;32m    195\u001b[0m         \u001b[38;5;28;01mif\u001b[39;00m \u001b[38;5;129;01mnot\u001b[39;00m \u001b[38;5;124m'\u001b[39m\u001b[38;5;124mckpt\u001b[39m\u001b[38;5;124m'\u001b[39m \u001b[38;5;129;01min\u001b[39;00m ckpt_fn:  \u001b[38;5;66;03m# Do not evaluate latest.pth\u001b[39;00m\n\u001b[1;32m    196\u001b[0m             \u001b[38;5;28;01mcontinue\u001b[39;00m\n",
      "\u001b[0;31mFileNotFoundError\u001b[0m: [Errno 2] No such file or directory: 'checkpoint'"
     ]
    }
   ],
   "source": [
    "# Build the trainer and start training\n",
    "trainer = PPOTrainer(config)\n",
    "trainer.train()"
   ]
  },
  {
   "cell_type": "code",
   "execution_count": 17,
   "id": "dd9d3893-6036-4d2e-b912-2f8fcc894904",
   "metadata": {},
   "outputs": [],
   "source": [
    "ppo_config_1_logs = parse_tensorboard(\"tb/PPO\", [\"metrics/spl\", \"reward\", \"learner/grad_norm\"])"
   ]
  },
  {
   "cell_type": "markdown",
   "id": "0972ed1f-04c8-4c0b-92f7-7bf7d6a0e868",
   "metadata": {},
   "source": [
    "### Agent sensors"
   ]
  },
  {
   "cell_type": "code",
   "execution_count": 18,
   "id": "872d9acc-263d-49ee-b4bb-a74afade703a",
   "metadata": {},
   "outputs": [
    {
     "name": "stderr",
     "output_type": "stream",
     "text": [
      "2025-04-29 12:44:38,331 Initializing dataset PointNav-v1\n",
      "2025-04-29 12:44:39,035 There are less scenes (1) than environments (2). Each environment will use all the scenes instead of using a subset.\n",
      "Neither `ifconfig` (`ifconfig -a`) nor `ip` (`ip address show`) commands are available, listing network interfaces is likely to fail\n",
      "Neither `ifconfig` (`ifconfig -a`) nor `ip` (`ip address show`) commands are available, listing network interfaces is likely to fail\n",
      "2025-04-29 12:44:50,366 Initializing dataset PointNav-v1\n",
      "2025-04-29 12:44:50,368 Initializing dataset PointNav-v1\n",
      "2025-04-29 12:44:50,782 initializing sim Sim-v0\n",
      "2025-04-29 12:44:50,783 initializing sim Sim-v0\n"
     ]
    },
    {
     "name": "stdout",
     "output_type": "stream",
     "text": [
      "Available observations : odict_keys(['depth', 'pointgoal_with_gps_compass', 'rgb'])\n"
     ]
    },
    {
     "name": "stderr",
     "output_type": "stream",
     "text": [
      "2025-04-29 12:44:55,376 Initializing task Nav-v0\n",
      "2025-04-29 12:44:55,383 Initializing task Nav-v0\n"
     ]
    }
   ],
   "source": [
    "from habitat_baselines.common.construct_vector_env import construct_envs\n",
    "from habitat_baselines.config.default import get_config\n",
    "\n",
    "config = build_PPO_config()\n",
    "OmegaConf.set_readonly(config, False)\n",
    "\n",
    "# Creating the environment\n",
    "envs = construct_envs(config)\n",
    "\n",
    "# Retrieve the observations\n",
    "obs = envs.reset()  \n",
    "\n",
    "# Verify the keys of the observation\n",
    "print(\"Available observations :\", obs[0].keys())  # Obs of environment 0\n",
    "OmegaConf.set_readonly(config, True)\n"
   ]
  },
  {
   "cell_type": "markdown",
   "id": "8709ef45-dbe3-40f8-a608-307f4dd162b2",
   "metadata": {},
   "source": [
    "## Configuration 2 : PointNav, Multiple Rooms, All sensors"
   ]
  },
  {
   "cell_type": "markdown",
   "id": "c76428fa-776d-4212-924f-6893efca0d52",
   "metadata": {},
   "source": [
    "### PPO Configuration"
   ]
  },
  {
   "cell_type": "code",
   "execution_count": 26,
   "id": "2cbfcb6a-256b-44a7-952e-1c82242ce4d6",
   "metadata": {},
   "outputs": [],
   "source": [
    "# A function to build configuration for PPO training\n",
    "def build_PPO_config():\n",
    "    config = get_config(\"pointnav/ppo_pointnav.yaml\")\n",
    "    # Change for REINFORCE\n",
    "    OmegaConf.set_readonly(config, False)\n",
    "    config.habitat_baselines.checkpoint_folder = \"data/PPO_checkpoints\"\n",
    "    config.habitat_baselines.tensorboard_dir = \"tb/PPO\"\n",
    "    config.habitat_baselines.num_updates = -1\n",
    "    config.habitat_baselines.num_environments = 2\n",
    "    config.habitat_baselines.verbose = False\n",
    "    config.habitat_baselines.num_checkpoints = -1\n",
    "    config.habitat_baselines.checkpoint_interval = 1000000\n",
    "    config.habitat_baselines.total_num_steps = 150 * 1000\n",
    "    # config.habitat_baselines.force_blind_policy = True\n",
    "    config.habitat.dataset.data_path=\"data/datasets/pointnav/multiple_room/v0/{split}/Adrian.json.gz\"\n",
    "    OmegaConf.set_readonly(config, True)\n",
    "\n",
    "    return config\n",
    "\n",
    "config = build_PPO_config()  # Build the config for PPO\n",
    "# Set randomness\n",
    "random.seed(config.habitat.seed)\n",
    "np.random.seed(config.habitat.seed)\n",
    "torch.manual_seed(config.habitat.seed)\n",
    "if (\n",
    "    config.habitat_baselines.force_torch_single_threaded\n",
    "    and torch.cuda.is_available()\n",
    "):\n",
    "    torch.set_num_threads(1)\n",
    "\n",
    "import os\n",
    "os.environ[\"MAGNUM_LOG\"] = \"quiet\"\n",
    "os.environ[\"HABITAT_SIM_LOG\"] = \"quiet\"\n"
   ]
  },
  {
   "cell_type": "markdown",
   "id": "e98bfb68-1eaa-4e4c-aebc-83c2710195fe",
   "metadata": {},
   "source": [
    "### Training phase"
   ]
  },
  {
   "cell_type": "code",
   "execution_count": 27,
   "id": "dcdc6657-cf9f-43fd-a58d-2bcafd11a843",
   "metadata": {},
   "outputs": [
    {
     "name": "stderr",
     "output_type": "stream",
     "text": [
      "2025-04-29 13:03:14,229 Loading resume state: data/PPO_checkpoints/.habitat-resume-state.pth\n",
      "2025-04-29 13:03:14,290 \n",
      "##################\n",
      "You are attempting to resume training with a different configuration than the one used for the original training run. Since load_resume_state_config=True, the ORIGINAL configuration will be used and the new configuration will be IGNORED.##################\n",
      "\n",
      "2025-04-29 13:03:14,291 Initializing dataset PointNav-v1\n",
      "2025-04-29 13:03:14,830 There are less scenes (1) than environments (2). Each environment will use all the scenes instead of using a subset.\n",
      "Neither `ifconfig` (`ifconfig -a`) nor `ip` (`ip address show`) commands are available, listing network interfaces is likely to fail\n",
      "Neither `ifconfig` (`ifconfig -a`) nor `ip` (`ip address show`) commands are available, listing network interfaces is likely to fail\n",
      "2025-04-29 13:03:26,189 Initializing dataset PointNav-v1\n",
      "2025-04-29 13:03:26,289 Initializing dataset PointNav-v1\n",
      "2025-04-29 13:03:26,597 initializing sim Sim-v0\n",
      "2025-04-29 13:03:26,702 initializing sim Sim-v0\n",
      "2025-04-29 13:03:31,254 Initializing task Nav-v0\n",
      "2025-04-29 13:03:31,311 Initializing task Nav-v0\n",
      "2025-04-29 13:03:31,359 agent number of parameters: 890661\n",
      "2025-04-29 13:03:32,172 update: 500\tfps: 289.329\t\n",
      "2025-04-29 13:03:32,173 update: 500\tenv-time: 113.529s\tpth-time: 170.707s\tframes: 128000\n",
      "2025-04-29 13:03:32,173 Average window size: 50  distance_to_goal: 0.200  distance_to_goal_reward: 0.000  reward: 17.979  spl: 0.790  success: 0.824\n",
      "2025-04-29 13:03:49,602 update: 525\tfps: 292.279\t\n",
      "2025-04-29 13:03:49,603 update: 525\tenv-time: 123.650s\tpth-time: 177.456s\tframes: 134400\n",
      "2025-04-29 13:03:49,604 Average window size: 50  distance_to_goal: 0.265  distance_to_goal_reward: 0.000  reward: 18.415  spl: 0.779  success: 0.806\n",
      "2025-04-29 13:04:06,929 update: 550\tfps: 295.078\t\n",
      "2025-04-29 13:04:06,930 update: 550\tenv-time: 133.664s\tpth-time: 184.208s\tframes: 140800\n",
      "2025-04-29 13:04:06,931 Average window size: 50  distance_to_goal: 0.229  distance_to_goal_reward: 0.000  reward: 19.474  spl: 0.788  success: 0.814\n",
      "2025-04-29 13:04:24,368 update: 575\tfps: 297.614\t\n",
      "2025-04-29 13:04:24,369 update: 575\tenv-time: 143.809s\tpth-time: 190.943s\tframes: 147200\n",
      "2025-04-29 13:04:24,369 Average window size: 50  distance_to_goal: 0.330  distance_to_goal_reward: 0.000  reward: 19.115  spl: 0.778  success: 0.803\n"
     ]
    },
    {
     "ename": "FileNotFoundError",
     "evalue": "[Errno 2] No such file or directory: 'checkpoint'",
     "output_type": "error",
     "traceback": [
      "\u001b[0;31m---------------------------------------------------------------------------\u001b[0m",
      "\u001b[0;31mFileNotFoundError\u001b[0m                         Traceback (most recent call last)",
      "Cell \u001b[0;32mIn[27], line 3\u001b[0m\n\u001b[1;32m      1\u001b[0m \u001b[38;5;66;03m# Build the trainer and start training\u001b[39;00m\n\u001b[1;32m      2\u001b[0m trainer \u001b[38;5;241m=\u001b[39m PPOTrainer(config)\n\u001b[0;32m----> 3\u001b[0m \u001b[43mtrainer\u001b[49m\u001b[38;5;241;43m.\u001b[39;49m\u001b[43mtrain\u001b[49m\u001b[43m(\u001b[49m\u001b[43m)\u001b[49m\n",
      "File \u001b[0;32m/workspace/miniconda/envs/habitat/lib/python3.8/contextlib.py:75\u001b[0m, in \u001b[0;36mContextDecorator.__call__.<locals>.inner\u001b[0;34m(*args, **kwds)\u001b[0m\n\u001b[1;32m     72\u001b[0m \u001b[38;5;129m@wraps\u001b[39m(func)\n\u001b[1;32m     73\u001b[0m \u001b[38;5;28;01mdef\u001b[39;00m \u001b[38;5;21minner\u001b[39m(\u001b[38;5;241m*\u001b[39margs, \u001b[38;5;241m*\u001b[39m\u001b[38;5;241m*\u001b[39mkwds):\n\u001b[1;32m     74\u001b[0m     \u001b[38;5;28;01mwith\u001b[39;00m \u001b[38;5;28mself\u001b[39m\u001b[38;5;241m.\u001b[39m_recreate_cm():\n\u001b[0;32m---> 75\u001b[0m         \u001b[38;5;28;01mreturn\u001b[39;00m \u001b[43mfunc\u001b[49m\u001b[43m(\u001b[49m\u001b[38;5;241;43m*\u001b[39;49m\u001b[43margs\u001b[49m\u001b[43m,\u001b[49m\u001b[43m \u001b[49m\u001b[38;5;241;43m*\u001b[39;49m\u001b[38;5;241;43m*\u001b[39;49m\u001b[43mkwds\u001b[49m\u001b[43m)\u001b[49m\n",
      "File \u001b[0;32m/workspace/habitat-lab/habitat-baselines/habitat_baselines/rl/ppo/ppo_trainer.py:953\u001b[0m, in \u001b[0;36mPPOTrainer.train\u001b[0;34m(self)\u001b[0m\n\u001b[1;32m    950\u001b[0m \u001b[38;5;28mself\u001b[39m\u001b[38;5;241m.\u001b[39menvs\u001b[38;5;241m.\u001b[39mclose()\n\u001b[1;32m    952\u001b[0m \u001b[38;5;28;01mif\u001b[39;00m \u001b[38;5;28mself\u001b[39m\u001b[38;5;241m.\u001b[39mconfig\u001b[38;5;241m.\u001b[39mhabitat_baselines\u001b[38;5;241m.\u001b[39mlaunch_eval_afterwards:\n\u001b[0;32m--> 953\u001b[0m     \u001b[38;5;28;43mself\u001b[39;49m\u001b[38;5;241;43m.\u001b[39;49m\u001b[43m_train_utils\u001b[49m\u001b[38;5;241;43m.\u001b[39;49m\u001b[43mlaunch_evaluation_after_training\u001b[49m\u001b[43m(\u001b[49m\n\u001b[1;32m    954\u001b[0m \u001b[43m        \u001b[49m\u001b[43mwriter\u001b[49m\u001b[38;5;241;43m=\u001b[39;49m\u001b[43mwriter\u001b[49m\u001b[43m,\u001b[49m\n\u001b[1;32m    955\u001b[0m \u001b[43m    \u001b[49m\u001b[43m)\u001b[49m\n",
      "File \u001b[0;32m/workspace/habitat-lab/habitat-baselines/habitat_baselines/common/train_utils.py:399\u001b[0m, in \u001b[0;36mTrainUtils.launch_evaluation_after_training\u001b[0;34m(self, writer)\u001b[0m\n\u001b[1;32m    395\u001b[0m \u001b[38;5;28;01mdef\u001b[39;00m \u001b[38;5;21mlaunch_evaluation_after_training\u001b[39m(\n\u001b[1;32m    396\u001b[0m     \u001b[38;5;28mself\u001b[39m,\n\u001b[1;32m    397\u001b[0m     writer: WeightsAndBiasesWriter,\n\u001b[1;32m    398\u001b[0m ):\n\u001b[0;32m--> 399\u001b[0m     \u001b[38;5;28;43mself\u001b[39;49m\u001b[38;5;241;43m.\u001b[39;49m\u001b[43m_eval_monitor\u001b[49m\u001b[38;5;241;43m.\u001b[39;49m\u001b[43mlaunch_evaluation_after_training\u001b[49m\u001b[43m(\u001b[49m\n\u001b[1;32m    400\u001b[0m \u001b[43m        \u001b[49m\u001b[43mwriter\u001b[49m\u001b[38;5;241;43m=\u001b[39;49m\u001b[43mwriter\u001b[49m\u001b[43m,\u001b[49m\n\u001b[1;32m    401\u001b[0m \u001b[43m    \u001b[49m\u001b[43m)\u001b[49m\n",
      "File \u001b[0;32m/workspace/habitat-lab/habitat-baselines/habitat_baselines/common/train_utils.py:194\u001b[0m, in \u001b[0;36mEvalMonitor.launch_evaluation_after_training\u001b[0;34m(self, writer)\u001b[0m\n\u001b[1;32m    190\u001b[0m \u001b[38;5;28;01mdef\u001b[39;00m \u001b[38;5;21mlaunch_evaluation_after_training\u001b[39m(\n\u001b[1;32m    191\u001b[0m     \u001b[38;5;28mself\u001b[39m,\n\u001b[1;32m    192\u001b[0m     writer: WeightsAndBiasesWriter,\n\u001b[1;32m    193\u001b[0m ):\n\u001b[0;32m--> 194\u001b[0m     \u001b[38;5;28;01mfor\u001b[39;00m ckpt_fn \u001b[38;5;129;01min\u001b[39;00m \u001b[43mos\u001b[49m\u001b[38;5;241;43m.\u001b[39;49m\u001b[43mlistdir\u001b[49m\u001b[43m(\u001b[49m\u001b[38;5;28;43mself\u001b[39;49m\u001b[38;5;241;43m.\u001b[39;49m\u001b[43m_ckpt_save_dir\u001b[49m\u001b[43m)\u001b[49m:\n\u001b[1;32m    195\u001b[0m         \u001b[38;5;28;01mif\u001b[39;00m \u001b[38;5;129;01mnot\u001b[39;00m \u001b[38;5;124m'\u001b[39m\u001b[38;5;124mckpt\u001b[39m\u001b[38;5;124m'\u001b[39m \u001b[38;5;129;01min\u001b[39;00m ckpt_fn:  \u001b[38;5;66;03m# Do not evaluate latest.pth\u001b[39;00m\n\u001b[1;32m    196\u001b[0m             \u001b[38;5;28;01mcontinue\u001b[39;00m\n",
      "\u001b[0;31mFileNotFoundError\u001b[0m: [Errno 2] No such file or directory: 'checkpoint'"
     ]
    }
   ],
   "source": [
    "# Build the trainer and start training\n",
    "trainer = PPOTrainer(config)\n",
    "trainer.train()"
   ]
  },
  {
   "cell_type": "code",
   "execution_count": 28,
   "id": "7d6d9d1b-e0f9-4936-80cd-9a1097d4f32f",
   "metadata": {},
   "outputs": [],
   "source": [
    "ppo_config_2_logs = parse_tensorboard(\"tb/PPO\", [\"metrics/spl\", \"reward\", \"learner/grad_norm\"])"
   ]
  },
  {
   "cell_type": "markdown",
   "id": "717a3e9e-09fc-44b8-b622-afbffe4bb077",
   "metadata": {},
   "source": [
    "## Perfomances"
   ]
  },
  {
   "cell_type": "code",
   "execution_count": 29,
   "id": "805c438f-0967-414b-90f1-ad2a3e6094ef",
   "metadata": {},
   "outputs": [
    {
     "data": {
      "text/plain": [
       "<matplotlib.legend.Legend at 0x7f7cac108250>"
      ]
     },
     "execution_count": 29,
     "metadata": {},
     "output_type": "execute_result"
    },
    {
     "data": {
      "image/png": "[encoded data removed]",
      "text/plain": [
       "<Figure size 600x600 with 2 Axes>"
      ]
     },
     "metadata": {},
     "output_type": "display_data"
    }
   ],
   "source": [
    "fig, axes = plt.subplots(2, 1, figsize=(6, 6))\n",
    "plt.subplots_adjust(hspace=0.5)\n",
    "plt.axes(axes[0])\n",
    "\n",
    "plt.plot(ppo_config_1_logs['metrics/spl'], label=\"PPO\")\n",
    "plt.plot(ppo_config_2_logs['metrics/spl'], label=\"PPO\")\n",
    "\n",
    "plt.title(\"SPL\")\n",
    "plt.xlabel(\"Steps\")\n",
    "plt.legend()\n",
    "\n",
    "plt.axes(axes[1])\n",
    "\n",
    "plt.plot(ppo_config_1_logs['learner/grad_norm'], label=\"PPO\")\n",
    "plt.plot(ppo_config_2_logs['learner/grad_norm'], label=\"PPO\")\n",
    "\n",
    "plt.title(\"Gradient Norm\")\n",
    "plt.xlabel(\"Steps\")\n",
    "plt.legend()"
   ]
  },
  {
   "cell_type": "code",
   "execution_count": null,
   "id": "26e80a8d-3e18-4d16-aeac-ae23dd5c37cb",
   "metadata": {},
   "outputs": [],
   "source": []
  }
 ],
 "metadata": {
  "kernelspec": {
   "display_name": "Python 3 (ipykernel)",
   "language": "python",
   "name": "python3"
  },
  "language_info": {
   "codemirror_mode": {
    "name": "ipython",
    "version": 3
   },
   "file_extension": ".py",
   "mimetype": "text/x-python",
   "name": "python",
   "nbconvert_exporter": "python",
   "pygments_lexer": "ipython3",
   "version": "3.8.18"
  }
 },
 "nbformat": 4,
 "nbformat_minor": 5
}
