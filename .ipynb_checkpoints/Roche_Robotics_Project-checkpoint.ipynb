{
 "cells": [
  {
   "cell_type": "markdown",
   "id": "42a658b9-1daa-4417-8eba-fe2081277340",
   "metadata": {},
   "source": [
    "# Roche robotics poject"
   ]
  },
  {
   "cell_type": "markdown",
   "id": "02a3b4cc-d58d-4e3c-bf03-d8d054d77e87",
   "metadata": {},
   "source": [
    "## Imports"
   ]
  },
  {
   "cell_type": "code",
   "execution_count": 7,
   "id": "9a3bad3e-cf4a-4e23-b219-9fd43199532a",
   "metadata": {},
   "outputs": [],
   "source": [
    "import random\n",
    "\n",
    "import numpy as np\n",
    "import matplotlib.pyplot as plt\n",
    "from omegaconf import OmegaConf\n",
    "import torch\n",
    "import torch.nn.functional as F\n",
    "\n",
    "from habitat_baselines.config.default import get_config\n",
    "from habitat_baselines.rl.ppo.ppo_trainer import PPOTrainer\n",
    "\n",
    "from pg.base_pg import BasePolicyGradient\n",
    "from pg.base_pg_trainer import BasePolicyGradientTrainer"
   ]
  },
  {
   "cell_type": "markdown",
   "id": "c76428fa-776d-4212-924f-6893efca0d52",
   "metadata": {},
   "source": [
    "## PPO Configuration"
   ]
  },
  {
   "cell_type": "code",
   "execution_count": 8,
   "id": "2cbfcb6a-256b-44a7-952e-1c82242ce4d6",
   "metadata": {},
   "outputs": [],
   "source": [
    "# A function to build configuration for PPO training\n",
    "def build_PPO_config():\n",
    "    config = get_config(\"pointnav/ppo_pointnav.yaml\")\n",
    "    # Change for REINFORCE\n",
    "    OmegaConf.set_readonly(config, False)\n",
    "    config.habitat_baselines.checkpoint_folder = \"data/PPO_checkpoints\"\n",
    "    config.habitat_baselines.tensorboard_dir = \"tb/PPO\"\n",
    "    config.habitat_baselines.num_updates = -1\n",
    "    config.habitat_baselines.num_environments = 2\n",
    "    config.habitat_baselines.verbose = False\n",
    "    config.habitat_baselines.num_checkpoints = -1\n",
    "    config.habitat_baselines.checkpoint_interval = 1000000\n",
    "    config.habitat_baselines.total_num_steps = 150 * 1000\n",
    "    # config.habitat_baselines.force_blind_policy = True\n",
    "    config.habitat.dataset.data_path=\"data/datasets/pointnav/simple_room/v0/{split}/empty_room.json.gz\"\n",
    "    OmegaConf.set_readonly(config, True)\n",
    "\n",
    "    return config\n",
    "\n",
    "config = build_PPO_config()  # Build the config for PPO\n",
    "# Set randomness\n",
    "random.seed(config.habitat.seed)\n",
    "np.random.seed(config.habitat.seed)\n",
    "torch.manual_seed(config.habitat.seed)\n",
    "if (\n",
    "    config.habitat_baselines.force_torch_single_threaded\n",
    "    and torch.cuda.is_available()\n",
    "):\n",
    "    torch.set_num_threads(1)\n",
    "\n",
    "import os\n",
    "os.environ[\"MAGNUM_LOG\"] = \"quiet\"\n",
    "os.environ[\"HABITAT_SIM_LOG\"] = \"quiet\"\n"
   ]
  },
  {
   "cell_type": "markdown",
   "id": "e98bfb68-1eaa-4e4c-aebc-83c2710195fe",
   "metadata": {},
   "source": [
    "## Training phase"
   ]
  },
  {
   "cell_type": "code",
   "execution_count": 9,
   "id": "dcdc6657-cf9f-43fd-a58d-2bcafd11a843",
   "metadata": {},
   "outputs": [
    {
     "name": "stderr",
     "output_type": "stream",
     "text": [
      "2025-04-29 12:12:56,377 Loading resume state: data/PPO_checkpoints/.habitat-resume-state.pth\n",
      "2025-04-29 12:12:56,726 \n",
      "##################\n",
      "You are attempting to resume training with a different configuration than the one used for the original training run. Since load_resume_state_config=True, the ORIGINAL configuration will be used and the new configuration will be IGNORED.##################\n",
      "\n",
      "2025-04-29 12:12:56,727 Initializing dataset PointNav-v1\n",
      "2025-04-29 12:12:57,339 There are less scenes (1) than environments (2). Each environment will use all the scenes instead of using a subset.\n",
      "Neither `ifconfig` (`ifconfig -a`) nor `ip` (`ip address show`) commands are available, listing network interfaces is likely to fail\n",
      "Neither `ifconfig` (`ifconfig -a`) nor `ip` (`ip address show`) commands are available, listing network interfaces is likely to fail\n",
      "2025-04-29 12:13:08,690 Initializing dataset PointNav-v1\n",
      "2025-04-29 12:13:08,711 Initializing dataset PointNav-v1\n",
      "2025-04-29 12:13:09,102 initializing sim Sim-v0\n",
      "2025-04-29 12:13:09,121 initializing sim Sim-v0\n",
      "2025-04-29 12:13:13,746 Initializing task Nav-v0\n",
      "2025-04-29 12:13:13,749 Initializing task Nav-v0\n",
      "2025-04-29 12:13:23,855 agent number of parameters: 890661\n",
      "2025-04-29 12:13:28,419 update: 500\tfps: 287.011\t\n",
      "2025-04-29 12:13:28,420 update: 500\tenv-time: 113.508s\tpth-time: 174.461s\tframes: 128000\n",
      "2025-04-29 12:13:28,421 Average window size: 50  distance_to_goal: 0.200  distance_to_goal_reward: 0.000  reward: 17.979  spl: 0.790  success: 0.824\n",
      "2025-04-29 12:13:45,267 update: 525\tfps: 290.391\t\n",
      "2025-04-29 12:13:45,267 update: 525\tenv-time: 123.100s\tpth-time: 181.137s\tframes: 134400\n",
      "2025-04-29 12:13:45,268 Average window size: 50  distance_to_goal: 0.265  distance_to_goal_reward: 0.000  reward: 18.415  spl: 0.779  success: 0.806\n",
      "2025-04-29 12:14:02,197 update: 550\tfps: 293.483\t\n",
      "2025-04-29 12:14:02,199 update: 550\tenv-time: 132.670s\tpth-time: 187.918s\tframes: 140800\n",
      "2025-04-29 12:14:02,199 Average window size: 50  distance_to_goal: 0.229  distance_to_goal_reward: 0.000  reward: 19.474  spl: 0.788  success: 0.814\n",
      "2025-04-29 12:14:20,096 update: 575\tfps: 295.788\t\n",
      "2025-04-29 12:14:20,097 update: 575\tenv-time: 142.238s\tpth-time: 195.597s\tframes: 147200\n",
      "2025-04-29 12:14:20,097 Average window size: 50  distance_to_goal: 0.330  distance_to_goal_reward: 0.000  reward: 19.115  spl: 0.778  success: 0.803\n"
     ]
    },
    {
     "ename": "FileNotFoundError",
     "evalue": "[Errno 2] No such file or directory: 'checkpoint'",
     "output_type": "error",
     "traceback": [
      "\u001b[0;31m---------------------------------------------------------------------------\u001b[0m",
      "\u001b[0;31mFileNotFoundError\u001b[0m                         Traceback (most recent call last)",
      "Cell \u001b[0;32mIn[9], line 3\u001b[0m\n\u001b[1;32m      1\u001b[0m \u001b[38;5;66;03m# Build the trainer and start training\u001b[39;00m\n\u001b[1;32m      2\u001b[0m trainer \u001b[38;5;241m=\u001b[39m PPOTrainer(config)\n\u001b[0;32m----> 3\u001b[0m \u001b[43mtrainer\u001b[49m\u001b[38;5;241;43m.\u001b[39;49m\u001b[43mtrain\u001b[49m\u001b[43m(\u001b[49m\u001b[43m)\u001b[49m\n",
      "File \u001b[0;32m/workspace/miniconda/envs/habitat/lib/python3.8/contextlib.py:75\u001b[0m, in \u001b[0;36mContextDecorator.__call__.<locals>.inner\u001b[0;34m(*args, **kwds)\u001b[0m\n\u001b[1;32m     72\u001b[0m \u001b[38;5;129m@wraps\u001b[39m(func)\n\u001b[1;32m     73\u001b[0m \u001b[38;5;28;01mdef\u001b[39;00m \u001b[38;5;21minner\u001b[39m(\u001b[38;5;241m*\u001b[39margs, \u001b[38;5;241m*\u001b[39m\u001b[38;5;241m*\u001b[39mkwds):\n\u001b[1;32m     74\u001b[0m     \u001b[38;5;28;01mwith\u001b[39;00m \u001b[38;5;28mself\u001b[39m\u001b[38;5;241m.\u001b[39m_recreate_cm():\n\u001b[0;32m---> 75\u001b[0m         \u001b[38;5;28;01mreturn\u001b[39;00m \u001b[43mfunc\u001b[49m\u001b[43m(\u001b[49m\u001b[38;5;241;43m*\u001b[39;49m\u001b[43margs\u001b[49m\u001b[43m,\u001b[49m\u001b[43m \u001b[49m\u001b[38;5;241;43m*\u001b[39;49m\u001b[38;5;241;43m*\u001b[39;49m\u001b[43mkwds\u001b[49m\u001b[43m)\u001b[49m\n",
      "File \u001b[0;32m/workspace/habitat-lab/habitat-baselines/habitat_baselines/rl/ppo/ppo_trainer.py:953\u001b[0m, in \u001b[0;36mPPOTrainer.train\u001b[0;34m(self)\u001b[0m\n\u001b[1;32m    950\u001b[0m \u001b[38;5;28mself\u001b[39m\u001b[38;5;241m.\u001b[39menvs\u001b[38;5;241m.\u001b[39mclose()\n\u001b[1;32m    952\u001b[0m \u001b[38;5;28;01mif\u001b[39;00m \u001b[38;5;28mself\u001b[39m\u001b[38;5;241m.\u001b[39mconfig\u001b[38;5;241m.\u001b[39mhabitat_baselines\u001b[38;5;241m.\u001b[39mlaunch_eval_afterwards:\n\u001b[0;32m--> 953\u001b[0m     \u001b[38;5;28;43mself\u001b[39;49m\u001b[38;5;241;43m.\u001b[39;49m\u001b[43m_train_utils\u001b[49m\u001b[38;5;241;43m.\u001b[39;49m\u001b[43mlaunch_evaluation_after_training\u001b[49m\u001b[43m(\u001b[49m\n\u001b[1;32m    954\u001b[0m \u001b[43m        \u001b[49m\u001b[43mwriter\u001b[49m\u001b[38;5;241;43m=\u001b[39;49m\u001b[43mwriter\u001b[49m\u001b[43m,\u001b[49m\n\u001b[1;32m    955\u001b[0m \u001b[43m    \u001b[49m\u001b[43m)\u001b[49m\n",
      "File \u001b[0;32m/workspace/habitat-lab/habitat-baselines/habitat_baselines/common/train_utils.py:399\u001b[0m, in \u001b[0;36mTrainUtils.launch_evaluation_after_training\u001b[0;34m(self, writer)\u001b[0m\n\u001b[1;32m    395\u001b[0m \u001b[38;5;28;01mdef\u001b[39;00m \u001b[38;5;21mlaunch_evaluation_after_training\u001b[39m(\n\u001b[1;32m    396\u001b[0m     \u001b[38;5;28mself\u001b[39m,\n\u001b[1;32m    397\u001b[0m     writer: WeightsAndBiasesWriter,\n\u001b[1;32m    398\u001b[0m ):\n\u001b[0;32m--> 399\u001b[0m     \u001b[38;5;28;43mself\u001b[39;49m\u001b[38;5;241;43m.\u001b[39;49m\u001b[43m_eval_monitor\u001b[49m\u001b[38;5;241;43m.\u001b[39;49m\u001b[43mlaunch_evaluation_after_training\u001b[49m\u001b[43m(\u001b[49m\n\u001b[1;32m    400\u001b[0m \u001b[43m        \u001b[49m\u001b[43mwriter\u001b[49m\u001b[38;5;241;43m=\u001b[39;49m\u001b[43mwriter\u001b[49m\u001b[43m,\u001b[49m\n\u001b[1;32m    401\u001b[0m \u001b[43m    \u001b[49m\u001b[43m)\u001b[49m\n",
      "File \u001b[0;32m/workspace/habitat-lab/habitat-baselines/habitat_baselines/common/train_utils.py:194\u001b[0m, in \u001b[0;36mEvalMonitor.launch_evaluation_after_training\u001b[0;34m(self, writer)\u001b[0m\n\u001b[1;32m    190\u001b[0m \u001b[38;5;28;01mdef\u001b[39;00m \u001b[38;5;21mlaunch_evaluation_after_training\u001b[39m(\n\u001b[1;32m    191\u001b[0m     \u001b[38;5;28mself\u001b[39m,\n\u001b[1;32m    192\u001b[0m     writer: WeightsAndBiasesWriter,\n\u001b[1;32m    193\u001b[0m ):\n\u001b[0;32m--> 194\u001b[0m     \u001b[38;5;28;01mfor\u001b[39;00m ckpt_fn \u001b[38;5;129;01min\u001b[39;00m \u001b[43mos\u001b[49m\u001b[38;5;241;43m.\u001b[39;49m\u001b[43mlistdir\u001b[49m\u001b[43m(\u001b[49m\u001b[38;5;28;43mself\u001b[39;49m\u001b[38;5;241;43m.\u001b[39;49m\u001b[43m_ckpt_save_dir\u001b[49m\u001b[43m)\u001b[49m:\n\u001b[1;32m    195\u001b[0m         \u001b[38;5;28;01mif\u001b[39;00m \u001b[38;5;129;01mnot\u001b[39;00m \u001b[38;5;124m'\u001b[39m\u001b[38;5;124mckpt\u001b[39m\u001b[38;5;124m'\u001b[39m \u001b[38;5;129;01min\u001b[39;00m ckpt_fn:  \u001b[38;5;66;03m# Do not evaluate latest.pth\u001b[39;00m\n\u001b[1;32m    196\u001b[0m             \u001b[38;5;28;01mcontinue\u001b[39;00m\n",
      "\u001b[0;31mFileNotFoundError\u001b[0m: [Errno 2] No such file or directory: 'checkpoint'"
     ]
    }
   ],
   "source": [
    "# Build the trainer and start training\n",
    "trainer = PPOTrainer(config)\n",
    "trainer.train()"
   ]
  },
  {
   "cell_type": "markdown",
   "id": "6b342b99-2014-4d7d-8e49-15df16eac716",
   "metadata": {
    "jp-MarkdownHeadingCollapsed": true
   },
   "source": [
    "## Agent sensors"
   ]
  },
  {
   "cell_type": "code",
   "execution_count": 3,
   "id": "8cf75698-3f62-4f45-adb2-e097e95a91c0",
   "metadata": {},
   "outputs": [
    {
     "name": "stderr",
     "output_type": "stream",
     "text": [
      "2025-04-29 12:01:36,586 Initializing dataset PointNav-v1\n",
      "2025-04-29 12:01:37,085 There are less scenes (1) than environments (2). Each environment will use all the scenes instead of using a subset.\n",
      "Neither `ifconfig` (`ifconfig -a`) nor `ip` (`ip address show`) commands are available, listing network interfaces is likely to fail\n",
      "Neither `ifconfig` (`ifconfig -a`) nor `ip` (`ip address show`) commands are available, listing network interfaces is likely to fail\n",
      "2025-04-29 12:01:48,768 Initializing dataset PointNav-v1\n",
      "2025-04-29 12:01:48,804 Initializing dataset PointNav-v1\n",
      "2025-04-29 12:01:49,187 initializing sim Sim-v0\n",
      "2025-04-29 12:01:49,217 initializing sim Sim-v0\n"
     ]
    },
    {
     "name": "stdout",
     "output_type": "stream",
     "text": [
      "Observations disponibles : odict_keys(['depth', 'pointgoal_with_gps_compass', 'rgb'])\n"
     ]
    },
    {
     "name": "stderr",
     "output_type": "stream",
     "text": [
      "2025-04-29 12:01:54,373 Initializing task Nav-v0\n",
      "2025-04-29 12:01:54,373 Initializing task Nav-v0\n"
     ]
    }
   ],
   "source": [
    "from habitat_baselines.common.construct_vector_env import construct_envs\n",
    "from habitat_baselines.config.default import get_config\n",
    "\n",
    "config = build_PPO_config()\n",
    "OmegaConf.set_readonly(config, False)\n",
    "\n",
    "# Creating the environment\n",
    "envs = construct_envs(config)\n",
    "\n",
    "# Retrieve the observations\n",
    "obs = envs.reset()  \n",
    "\n",
    "# Verify the keys of the observation\n",
    "print(\"Available observations :\", obs[0].keys())  # Obs of environment 0\n",
    "OmegaConf.set_readonly(config, True)\n"
   ]
  },
  {
   "cell_type": "markdown",
   "id": "717a3e9e-09fc-44b8-b622-afbffe4bb077",
   "metadata": {},
   "source": [
    "## Perfomances"
   ]
  },
  {
   "cell_type": "code",
   "execution_count": 10,
   "id": "5d7f3faf-8f8e-4505-a67c-2b83cdc9904b",
   "metadata": {},
   "outputs": [],
   "source": [
    "from tensorboard.backend.event_processing import event_accumulator\n",
    "import pandas as pd\n",
    "\n",
    "\n",
    "def parse_tensorboard(path, scalars, prefix=\"\"):\n",
    "    \"\"\"returns a dictionary of pandas dataframes for each requested scalar\"\"\"\n",
    "    ea = event_accumulator.EventAccumulator(\n",
    "        path,\n",
    "        size_guidance={event_accumulator.SCALARS: 0},\n",
    "    )\n",
    "    _ = ea.Reload()\n",
    "    df = pd.DataFrame(ea.Scalars(scalars[0]))\n",
    "    df[f'{scalars[0]}'] = df['value']\n",
    "    df.drop(columns=['value'], inplace=True)\n",
    "    for k in scalars:\n",
    "        df[k] = pd.DataFrame(ea.Scalars(k))['value']\n",
    "    return df"
   ]
  },
  {
   "cell_type": "code",
   "execution_count": 11,
   "id": "c4822732-5fa5-4723-89b8-b6305def0316",
   "metadata": {},
   "outputs": [],
   "source": [
    "ppo_logs = parse_tensorboard(\"tb/PPO\", [\"metrics/spl\", \"reward\", \"learner/grad_norm\"])"
   ]
  },
  {
   "cell_type": "code",
   "execution_count": 12,
   "id": "805c438f-0967-414b-90f1-ad2a3e6094ef",
   "metadata": {},
   "outputs": [
    {
     "data": {
      "text/plain": [
       "<matplotlib.legend.Legend at 0x7fbba0229af0>"
      ]
     },
     "execution_count": 12,
     "metadata": {},
     "output_type": "execute_result"
    },
    {
     "data": {
      "image/png": "[encoded data removed]",
      "text/plain": [
       "<Figure size 600x600 with 2 Axes>"
      ]
     },
     "metadata": {},
     "output_type": "display_data"
    }
   ],
   "source": [
    "fig, axes = plt.subplots(2, 1, figsize=(6, 6))\n",
    "plt.subplots_adjust(hspace=0.5)\n",
    "plt.axes(axes[0])\n",
    "plt.plot(ppo_logs['metrics/spl'], label=\"PPO\")\n",
    "plt.title(\"SPL\")\n",
    "plt.xlabel(\"Steps\")\n",
    "plt.legend()\n",
    "\n",
    "\n",
    "plt.axes(axes[1])\n",
    "plt.plot(ppo_logs['learner/grad_norm'], label=\"PPO\")\n",
    "plt.title(\"Gradient Norm\")\n",
    "plt.xlabel(\"Steps\")\n",
    "plt.legend()"
   ]
  },
  {
   "cell_type": "code",
   "execution_count": null,
   "id": "26e80a8d-3e18-4d16-aeac-ae23dd5c37cb",
   "metadata": {},
   "outputs": [],
   "source": []
  }
 ],
 "metadata": {
  "kernelspec": {
   "display_name": "Python 3 (ipykernel)",
   "language": "python",
   "name": "python3"
  },
  "language_info": {
   "codemirror_mode": {
    "name": "ipython",
    "version": 3
   },
   "file_extension": ".py",
   "mimetype": "text/x-python",
   "name": "python",
   "nbconvert_exporter": "python",
   "pygments_lexer": "ipython3",
   "version": "3.8.18"
  }
 },
 "nbformat": 4,
 "nbformat_minor": 5
}
