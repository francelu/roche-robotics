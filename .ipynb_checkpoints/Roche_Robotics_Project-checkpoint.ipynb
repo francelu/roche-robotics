{
 "cells": [
  {
   "cell_type": "markdown",
   "id": "42a658b9-1daa-4417-8eba-fe2081277340",
   "metadata": {},
   "source": [
    "# Roche robotics poject"
   ]
  },
  {
   "cell_type": "markdown",
   "id": "02a3b4cc-d58d-4e3c-bf03-d8d054d77e87",
   "metadata": {},
   "source": [
    "## Imports"
   ]
  },
  {
   "cell_type": "code",
   "execution_count": 1,
   "id": "9a3bad3e-cf4a-4e23-b219-9fd43199532a",
   "metadata": {},
   "outputs": [
    {
     "name": "stderr",
     "output_type": "stream",
     "text": [
      "Neither `ifconfig` (`ifconfig -a`) nor `ip` (`ip address show`) commands are available, listing network interfaces is likely to fail\n"
     ]
    }
   ],
   "source": [
    "import random\n",
    "\n",
    "import numpy as np\n",
    "import matplotlib.pyplot as plt\n",
    "from omegaconf import OmegaConf\n",
    "import torch\n",
    "import torch.nn.functional as F\n",
    "import json\n",
    "import pandas as pd\n",
    "import os\n",
    "\n",
    "from habitat_baselines.config.default import get_config\n",
    "from habitat_baselines.rl.ppo.ppo_trainer import PPOTrainer\n",
    "from habitat_baselines.common.construct_vector_env import construct_envs\n",
    "from habitat_baselines.config.default import get_config\n",
    "\n",
    "from pg.base_pg import BasePolicyGradient\n",
    "from pg.base_pg_trainer import BasePolicyGradientTrainer\n",
    "\n",
    "from tensorboard.backend.event_processing import event_accumulator"
   ]
  },
  {
   "cell_type": "markdown",
   "id": "559a56b7-dd0f-4cc6-8f7e-cfcb26a1f120",
   "metadata": {},
   "source": [
    "## Useful functions"
   ]
  },
  {
   "cell_type": "code",
   "execution_count": 2,
   "id": "065f79ce-1509-4716-8875-ad7cbaaafe41",
   "metadata": {},
   "outputs": [],
   "source": [
    "def parse_tensorboard(path, scalars, prefix=\"\"):\n",
    "    \"\"\"returns a dictionary of pandas dataframes for each requested scalar\"\"\"\n",
    "    ea = event_accumulator.EventAccumulator(\n",
    "        path,\n",
    "        size_guidance={event_accumulator.SCALARS: 0},\n",
    "    )\n",
    "    _ = ea.Reload()\n",
    "    df = pd.DataFrame(ea.Scalars(scalars[0]))\n",
    "    df[f'{scalars[0]}'] = df['value']\n",
    "    df.drop(columns=['value'], inplace=True)\n",
    "    for k in scalars:\n",
    "        df[k] = pd.DataFrame(ea.Scalars(k))['value']\n",
    "    return df"
   ]
  },
  {
   "cell_type": "markdown",
   "id": "c124f396-b892-47a7-9c7e-f3770d39ef20",
   "metadata": {},
   "source": [
    "## Configuration 1 : PointNav, Empty Room"
   ]
  },
  {
   "cell_type": "markdown",
   "id": "867f6688-fa79-41ed-8f4f-2df12ca5e617",
   "metadata": {},
   "source": [
    "### PPO Configuration"
   ]
  },
  {
   "cell_type": "code",
   "execution_count": 8,
   "id": "b498bcaf-a121-4670-adc8-c5c4933d3657",
   "metadata": {
    "scrolled": true
   },
   "outputs": [],
   "source": [
    "def build_PPO_config():    \n",
    "    config = get_config(\"targetnav/comm_proj_discrete.yaml\")\n",
    "    OmegaConf.set_readonly(config, False)\n",
    "    config.habitat_baselines.tensorboard_dir = \"tb/PPO\"\n",
    "    config.habitat_baselines.checkpoint_folder = \"data/PPO3_checkpoints\"\n",
    "    config.habitat_baselines.num_updates = -1\n",
    "    config.habitat_baselines.num_environments = 2\n",
    "    config.habitat_baselines.verbose = True\n",
    "    config.habitat_baselines.num_checkpoints = -1\n",
    "    config.habitat_baselines.checkpoint_interval = 1000000\n",
    "    config.habitat_baselines.total_num_steps = 150 * 1000\n",
    "    config.habitat.dataset.data_path = \"data/datasets/pointnav/simple_room/v0/{split}/empty_room.json.gz\"\n",
    "    config.habitat_baselines.load_resume_state_config = False\n",
    "    #config.habitat.simulator\n",
    "    \n",
    "    #config.habitat.simulator.scene = \"data/scene_datasets/simple_room/empty_room.glb\"\n",
    "    #config.habitat.simulator.scene = \"data/scene_datasets/simple_room/empty_room.scene_instance.json\"\n",
    "\n",
    "    OmegaConf.set_readonly(config, True)\n",
    "\n",
    "    return config\n",
    "\n",
    "config = build_PPO_config()\n",
    "om_config = OmegaConf.to_yaml(config)\n",
    "#print(om_config)\n",
    "      \n",
    "# Set randomness\n",
    "random.seed(config.habitat.seed)\n",
    "np.random.seed(config.habitat.seed)\n",
    "torch.manual_seed(config.habitat.seed)\n",
    "if (\n",
    "    config.habitat_baselines.force_torch_single_threaded\n",
    "    and torch.cuda.is_available()\n",
    "):\n",
    "    torch.set_num_threads(1)\n",
    "\n",
    "os.environ[\"MAGNUM_LOG\"] = \"quiet\"\n",
    "os.environ[\"HABITAT_SIM_LOG\"] = \"quiet\""
   ]
  },
  {
   "cell_type": "code",
   "execution_count": 14,
   "id": "a51e1421-874c-49e2-83b5-6763944a49af",
   "metadata": {},
   "outputs": [
    {
     "name": "stdout",
     "output_type": "stream",
     "text": [
      "<habitat_sim._ext.habitat_sim_bindings.SimulatorConfiguration object at 0x7ff09ae14130>\n",
      "<habitat_sim._ext.habitat_sim_bindings.CameraSensorSpec object at 0x7ff09ace5810>\n",
      "AgentConfiguration(height=1.5, radius=0.1, sensor_specifications=[<habitat_sim._ext.habitat_sim_bindings.CameraSensorSpec object at 0x7ff09ace5810>], action_space={'move_forward': ActionSpec(name='move_forward', actuation=ActuationSpec(amount=0.25, constraint=None)), 'turn_left': ActionSpec(name='turn_left', actuation=ActuationSpec(amount=10.0, constraint=None)), 'turn_right': ActionSpec(name='turn_right', actuation=ActuationSpec(amount=10.0, constraint=None))}, body_type='cylinder')\n"
     ]
    }
   ],
   "source": [
    "import habitat_sim\n",
    "\n",
    "backend_cfg = habitat_sim.SimulatorConfiguration()\n",
    "print(backend_cfg)\n",
    "\n",
    "sem_cfg = habitat_sim.CameraSensorSpec()\n",
    "sem_cfg.uuid = \"semantic\"\n",
    "sem_cfg.sensor_type = habitat_sim.SensorType.SEMANTIC\n",
    "print(sem_cfg)\n",
    "\n",
    "agent_cfg = habitat_sim.agent.AgentConfiguration()\n",
    "agent_cfg.sensor_specifications = [sem_cfg]\n",
    "print(agent_cfg)"
   ]
  },
  {
   "cell_type": "markdown",
   "id": "6d08b884-0399-481d-ac6b-93f183ae0c68",
   "metadata": {},
   "source": [
    "### Training phase"
   ]
  },
  {
   "cell_type": "code",
   "execution_count": 13,
   "id": "b6b8d8e5-be85-4c09-8859-4e1062d101d0",
   "metadata": {},
   "outputs": [
    {
     "ename": "NameError",
     "evalue": "name 'self' is not defined",
     "output_type": "error",
     "traceback": [
      "\u001b[0;31m---------------------------------------------------------------------------\u001b[0m",
      "\u001b[0;31mNameError\u001b[0m                                 Traceback (most recent call last)",
      "Cell \u001b[0;32mIn[13], line 3\u001b[0m\n\u001b[1;32m      1\u001b[0m \u001b[38;5;66;03m# Build the trainer and start training\u001b[39;00m\n\u001b[1;32m      2\u001b[0m trainer \u001b[38;5;241m=\u001b[39m PPOTrainer(config)\n\u001b[0;32m----> 3\u001b[0m \u001b[38;5;28;43mself\u001b[39;49m\u001b[38;5;241m.\u001b[39m_init_envs()\n\u001b[1;32m      4\u001b[0m \u001b[38;5;66;03m#trainer.train()\u001b[39;00m\n\u001b[1;32m      5\u001b[0m \n\u001b[1;32m      6\u001b[0m \u001b[38;5;66;03m#trainer.agent.ini\u001b[39;00m\n",
      "\u001b[0;31mNameError\u001b[0m: name 'self' is not defined"
     ]
    }
   ],
   "source": [
    "# Build the trainer and start training\n",
    "trainer = PPOTrainer(config)\n",
    "trainer._init_envs()\n",
    "#trainer.train()\n",
    "\n",
    "#trainer.agent.ini"
   ]
  },
  {
   "cell_type": "code",
   "execution_count": 12,
   "id": "d31b0e3a-be52-4509-aa59-8245bcfed0f2",
   "metadata": {},
   "outputs": [
    {
     "data": {
      "text/plain": [
       "NoneType"
      ]
     },
     "execution_count": 12,
     "metadata": {},
     "output_type": "execute_result"
    }
   ],
   "source": [
    "type(trainer.envs)"
   ]
  },
  {
   "cell_type": "code",
   "execution_count": null,
   "id": "4835c589-7466-4a1d-bf3b-9000962d0eb7",
   "metadata": {},
   "outputs": [],
   "source": [
    "sim_rom = RunTimeObjectManager(sim)\n",
    "    sim_rom.delete_added_target()\n",
    "    sim_rom.add_target('/scratch/singh/morph_ws/habitat-lab/data/objects/targets/red_ball.glb', [0.0, 0.0, 0.0])\n",
    "    # '/workspace/habitat-sim/data/test_assets/objects/red_ball.glb'\n",
    "    sim.step_physics(physics_step_time)"
   ]
  },
  {
   "cell_type": "code",
   "execution_count": null,
   "id": "dd9d3893-6036-4d2e-b912-2f8fcc894904",
   "metadata": {},
   "outputs": [],
   "source": [
    "ppo_config_1_logs = parse_tensorboard(\"tb/PPO\", [\"metrics/spl\", \"reward\", \"learner/grad_norm\"])"
   ]
  },
  {
   "cell_type": "markdown",
   "id": "0972ed1f-04c8-4c0b-92f7-7bf7d6a0e868",
   "metadata": {},
   "source": [
    "### Agent sensors"
   ]
  },
  {
   "cell_type": "code",
   "execution_count": null,
   "id": "872d9acc-263d-49ee-b4bb-a74afade703a",
   "metadata": {},
   "outputs": [],
   "source": [
    "config = build_PPO_config()\n",
    "OmegaConf.set_readonly(config, False)\n",
    "\n",
    "# Creating the environment\n",
    "envs = construct_envs(config)\n",
    "\n",
    "# Retrieve the observations\n",
    "obs = envs.reset()  \n",
    "\n",
    "# Verify the keys of the observation\n",
    "print(\"Available observations :\", obs[0].keys())  # Obs of environment 0\n",
    "OmegaConf.set_readonly(config, True)\n"
   ]
  },
  {
   "cell_type": "markdown",
   "id": "8709ef45-dbe3-40f8-a608-307f4dd162b2",
   "metadata": {
    "jp-MarkdownHeadingCollapsed": true
   },
   "source": [
    "## Configuration 2 : PointNav, Multiple Rooms"
   ]
  },
  {
   "cell_type": "markdown",
   "id": "c76428fa-776d-4212-924f-6893efca0d52",
   "metadata": {},
   "source": [
    "### PPO Configuration"
   ]
  },
  {
   "cell_type": "code",
   "execution_count": null,
   "id": "2cbfcb6a-256b-44a7-952e-1c82242ce4d6",
   "metadata": {},
   "outputs": [],
   "source": [
    "def build_PPO_config():\n",
    "    config = get_config(\"pointnav/ppo_pointnav.yaml\")\n",
    "    OmegaConf.set_readonly(config, False)\n",
    "    config.habitat_baselines.tensorboard_dir = \"tb/PPO\"\n",
    "    config.habitat_baselines.num_updates = -1\n",
    "    config.habitat_baselines.num_environments = 2\n",
    "    config.habitat_baselines.verbose = True\n",
    "    config.habitat_baselines.num_checkpoints = -1\n",
    "    config.habitat_baselines.checkpoint_interval = 1000000\n",
    "    config.habitat_baselines.total_num_steps = 150 * 1000\n",
    "    config.habitat.dataset.data_path=\"data/datasets/pointnav/multiple_room/v0/{split}/Adrian.json.gz\"\n",
    "    OmegaConf.set_readonly(config, True)\n",
    "\n",
    "    return config\n",
    "\n",
    "config = build_PPO_config()  # Build the config for PPO\n",
    "# Set randomness\n",
    "random.seed(config.habitat.seed)\n",
    "np.random.seed(config.habitat.seed)\n",
    "torch.manual_seed(config.habitat.seed)\n",
    "if (\n",
    "    config.habitat_baselines.force_torch_single_threaded\n",
    "    and torch.cuda.is_available()\n",
    "):\n",
    "    torch.set_num_threads(1)\n",
    "\n",
    "os.environ[\"MAGNUM_LOG\"] = \"quiet\"\n",
    "os.environ[\"HABITAT_SIM_LOG\"] = \"quiet\""
   ]
  },
  {
   "cell_type": "markdown",
   "id": "e98bfb68-1eaa-4e4c-aebc-83c2710195fe",
   "metadata": {},
   "source": [
    "### Training phase"
   ]
  },
  {
   "cell_type": "code",
   "execution_count": null,
   "id": "dcdc6657-cf9f-43fd-a58d-2bcafd11a843",
   "metadata": {},
   "outputs": [],
   "source": [
    "# Build the trainer and start training\n",
    "trainer = PPOTrainer(config)\n",
    "trainer.train()"
   ]
  },
  {
   "cell_type": "code",
   "execution_count": null,
   "id": "7d6d9d1b-e0f9-4936-80cd-9a1097d4f32f",
   "metadata": {},
   "outputs": [],
   "source": [
    "ppo_config_2_logs = parse_tensorboard(\"tb/PPO\", [\"metrics/spl\", \"reward\", \"learner/grad_norm\"])"
   ]
  },
  {
   "cell_type": "markdown",
   "id": "717a3e9e-09fc-44b8-b622-afbffe4bb077",
   "metadata": {},
   "source": [
    "## Perfomances"
   ]
  },
  {
   "cell_type": "code",
   "execution_count": null,
   "id": "805c438f-0967-414b-90f1-ad2a3e6094ef",
   "metadata": {},
   "outputs": [],
   "source": [
    "fig, axes = plt.subplots(2, 1, figsize=(6, 6))\n",
    "plt.subplots_adjust(hspace=0.5)\n",
    "plt.axes(axes[0])\n",
    "\n",
    "plt.plot(ppo_config_1_logs['metrics/spl'], label=\"PPO\")\n",
    "plt.plot(ppo_config_2_logs['metrics/spl'], label=\"PPO\")\n",
    "\n",
    "plt.title(\"SPL\")\n",
    "plt.xlabel(\"Steps\")\n",
    "plt.legend()\n",
    "\n",
    "plt.axes(axes[1])\n",
    "\n",
    "plt.plot(ppo_config_1_logs['learner/grad_norm'], label=\"PPO\")\n",
    "plt.plot(ppo_config_2_logs['learner/grad_norm'], label=\"PPO\")\n",
    "\n",
    "plt.title(\"Gradient Norm\")\n",
    "plt.xlabel(\"Steps\")\n",
    "plt.legend()"
   ]
  },
  {
   "cell_type": "code",
   "execution_count": null,
   "id": "26e80a8d-3e18-4d16-aeac-ae23dd5c37cb",
   "metadata": {},
   "outputs": [],
   "source": []
  }
 ],
 "metadata": {
  "kernelspec": {
   "display_name": "Python 3 (ipykernel)",
   "language": "python",
   "name": "python3"
  },
  "language_info": {
   "codemirror_mode": {
    "name": "ipython",
    "version": 3
   },
   "file_extension": ".py",
   "mimetype": "text/x-python",
   "name": "python",
   "nbconvert_exporter": "python",
   "pygments_lexer": "ipython3",
   "version": "3.8.18"
  }
 },
 "nbformat": 4,
 "nbformat_minor": 5
}
